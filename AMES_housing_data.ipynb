{
 "cells": [
  {
   "cell_type": "markdown",
   "metadata": {},
   "source": [
    "# Regression and Classification with the Ames Housing Data"
   ]
  },
  {
   "cell_type": "code",
   "execution_count": 15,
   "metadata": {},
   "outputs": [],
   "source": [
    "import numpy as np\n",
    "import scipy.stats as stats\n",
    "import seaborn as sns\n",
    "import matplotlib.pyplot as plt\n",
    "import pandas as pd\n",
    "\n",
    "from sklearn.metrics import mean_squared_error\n",
    "from sklearn.linear_model import LinearRegression\n",
    "from sklearn.model_selection import train_test_split\n",
    "from sklearn.model_selection import KFold\n",
    "from sklearn.model_selection import cross_val_score\n",
    "from sklearn.preprocessing import StandardScaler\n",
    "from sklearn.preprocessing import MinMaxScaler\n",
    "from sklearn.preprocessing import PolynomialFeatures\n",
    "from sklearn.linear_model import Ridge\n",
    "from sklearn.linear_model import Lasso\n",
    "from sklearn.linear_model import ElasticNet\n",
    "from sklearn.linear_model import LassoCV, RidgeCV, ElasticNetCV\n",
    "\n",
    "plt.style.use('ggplot')\n",
    "\n",
    "%config InlineBackend.figure_format = 'retina'\n",
    "%matplotlib inline"
   ]
  },
  {
   "cell_type": "markdown",
   "metadata": {},
   "source": [
    "## 1. Estimating the value of homes from fixed characteristics.\n",
    "\n",
    "---\n",
    "\n",
    "My superiors have outlined this year's strategy for the company:\n",
    "1. Develop an algorithm to reliably estimate the value of residential houses based on *fixed* characteristics.\n",
    "2. Identify characteristics of houses that the company can cost-effectively change/renovate with their construction team.\n",
    "3. Evaluate the mean dollar value of different renovations.\n",
    "\n",
    "Then I can use that to buy houses that are likely to sell for more than the cost of the purchase plus renovations.\n",
    "\n",
    "I have a dataset of housing sale data with a huge amount of features identifying different aspects of the house. \n",
    "I need to build a reliable estimator for the price of the house given characteristics of the house that cannot be renovated. Some examples include:\n",
    "- The neighborhood\n",
    "- Square feet\n",
    "- Bedrooms, bathrooms\n",
    "- Basement and garage space\n",
    "\n",
    "and many more. \n",
    "\n",
    "Some examples of things that **ARE renovateable:**\n",
    "- Roof and exterior features\n",
    "- \"Quality\" metrics, such as kitchen quality\n",
    "- \"Condition\" metrics, such as condition of garage\n",
    "- Heating and electrical components\n",
    "\n",
    "and generally anything I deem can be modified without having to undergo major construction on the house.\n",
    "\n",
    "---\n",
    "\n",
    "**My goals:**\n",
    "- Perform any cleaning, feature engineering, and EDA.\n",
    "- Be sure to remove any houses that are not residential from the dataset.\n",
    "- Identify **fixed** features that can predict price.\n",
    "- Train a model on pre-2010 data and evaluate its performance on the 2010 houses.\n",
    "- Characterize my model. How well does it perform? What are the best estimates of price?"
   ]
  },
  {
   "cell_type": "markdown",
   "metadata": {},
   "source": [
    "### Note: \n",
    "I have not included MiscFeature or MiscVal in my analysis becauase it's made up of both fixed and non-fixed features. I cannot be sure how much of the MiscVal is split between each feature, so this didn't feel appropriate to include. "
   ]
  },
  {
   "cell_type": "code",
   "execution_count": 16,
   "metadata": {},
   "outputs": [],
   "source": [
    "# Read in the data\n",
    "\n",
    "house = pd.read_csv('/Users/gemmaboyle/Desktop/GA-DSI/resource_datasets/resource-datasets/project_3/housing.csv')"
   ]
  },
  {
   "cell_type": "code",
   "execution_count": 17,
   "metadata": {},
   "outputs": [],
   "source": [
    "# Have a look at the data overall, where are the null values?\n",
    "\n",
    "# house.info()"
   ]
  },
  {
   "cell_type": "code",
   "execution_count": 18,
   "metadata": {},
   "outputs": [
    {
     "data": {
      "text/plain": [
       "(1460, 81)"
      ]
     },
     "execution_count": 18,
     "metadata": {},
     "output_type": "execute_result"
    }
   ],
   "source": [
    "house.shape"
   ]
  },
  {
   "cell_type": "code",
   "execution_count": 19,
   "metadata": {},
   "outputs": [
    {
     "data": {
      "text/plain": [
       "array(['RL', 'RM', 'C (all)', 'FV', 'RH'], dtype=object)"
      ]
     },
     "execution_count": 19,
     "metadata": {},
     "output_type": "execute_result"
    }
   ],
   "source": [
    "# In order to remove non-residential housing call the unique identifiers for MSZoning\n",
    "\n",
    "house.MSZoning.unique()\n"
   ]
  },
  {
   "cell_type": "code",
   "execution_count": 20,
   "metadata": {},
   "outputs": [
    {
     "data": {
      "text/plain": [
       "array(['RL', 'RM', 'FV', 'RH'], dtype=object)"
      ]
     },
     "execution_count": 20,
     "metadata": {},
     "output_type": "execute_result"
    }
   ],
   "source": [
    "# Remove non-residential properties from the data set (just C for commercial)\n",
    "\n",
    "res_house = house[(house.MSZoning != 'C (all)')]\n",
    "res_house.MSZoning.unique()\n"
   ]
  },
  {
   "cell_type": "code",
   "execution_count": 21,
   "metadata": {},
   "outputs": [],
   "source": [
    "# Look again at null values \n",
    "# res_house.info()"
   ]
  },
  {
   "cell_type": "code",
   "execution_count": 22,
   "metadata": {},
   "outputs": [],
   "source": [
    "# Removing the rows with NaN values in LotFrontage, MasVnrType, Electric. Each of these columns either already \n",
    "# include a None value, therefore the NaN value is missing data (in the case of LotFrontage NaN is assumed to\n",
    "# be missing data as a Lot cannot have 0 frontage. \n",
    "\n",
    "remove_na = res_house.dropna(axis=0, subset=['LotFrontage','MasVnrType','Electrical'])"
   ]
  },
  {
   "cell_type": "code",
   "execution_count": 23,
   "metadata": {},
   "outputs": [],
   "source": [
    "# Now I want to convert the remaining NaN's to 'None' as in each of the columns where this exists it means 'None'\n",
    "# For example in Alley NaN means there isn't one, this is the same for Garage Type, Fence etc. \n",
    "\n",
    "replace_na = remove_na.fillna(value='None',axis=1, inplace=False)"
   ]
  },
  {
   "cell_type": "code",
   "execution_count": 24,
   "metadata": {},
   "outputs": [
    {
     "data": {
      "text/plain": [
       "(1184, 81)"
      ]
     },
     "execution_count": 24,
     "metadata": {},
     "output_type": "execute_result"
    }
   ],
   "source": [
    "# Turn numerical categorical data to string types (object types)\n",
    "# Exception: Overall quality and Overall condition. Despite being categorical (1-10) we can consider \n",
    "# this as a continuous variable as something like a quality rating of 7.5 does make sense (whereas 3.5 \n",
    "# fireplaces does not)\n",
    "\n",
    "# What also needs to be dummified from the non-fixed features? Add in here. \n",
    "numerical_categorical = ['MSSubClass','YearBuilt','YearRemodAdd','BsmtFullBath','BsmtHalfBath','FullBath',\n",
    "                         'HalfBath','BedroomAbvGr','KitchenAbvGr','TotRmsAbvGrd','Fireplaces','GarageYrBlt','GarageCars',\n",
    "                         'MoSold']\n",
    "\n",
    "\n",
    "replace_na[['MSSubClass','YearBuilt','YearRemodAdd','BsmtFullBath','BsmtHalfBath','FullBath',\n",
    "                         'HalfBath','BedroomAbvGr','KitchenAbvGr','TotRmsAbvGrd','Fireplaces','GarageYrBlt','GarageCars',\n",
    "                         'MoSold']] = replace_na[['MSSubClass','YearBuilt','YearRemodAdd','BsmtFullBath','BsmtHalfBath','FullBath',\n",
    "                         'HalfBath','BedroomAbvGr','KitchenAbvGr','TotRmsAbvGrd','Fireplaces','GarageYrBlt','GarageCars',\n",
    "                         'MoSold',]].astype(str)\n",
    "\n",
    "\n",
    "replace_na['YrSold'] = pd.to_numeric(replace_na['YrSold'])\n",
    "\n",
    "replace_na.shape"
   ]
  },
  {
   "cell_type": "code",
   "execution_count": 25,
   "metadata": {},
   "outputs": [
    {
     "data": {
      "text/plain": [
       "181349.50760135136"
      ]
     },
     "execution_count": 25,
     "metadata": {},
     "output_type": "execute_result"
    }
   ],
   "source": [
    "# Baseline \n",
    "\n",
    "replace_na['SalePrice'].mean()"
   ]
  },
  {
   "cell_type": "code",
   "execution_count": 26,
   "metadata": {},
   "outputs": [
    {
     "data": {
      "image/png": "[encoded data removed]",
      "text/plain": [
       "<Figure size 432x288 with 1 Axes>"
      ]
     },
     "metadata": {
      "image/png": {
       "height": 281,
       "width": 362
      },
      "needs_background": "light"
     },
     "output_type": "display_data"
    }
   ],
   "source": [
    "plt.hist(replace_na.SalePrice, density=True)\n",
    "plt.title('Distribution of house prices')\n",
    "plt.xlabel('Dollar Prices');\n",
    "plt.savefig('Distribution_of_house_prices.png')"
   ]
  },
  {
   "cell_type": "markdown",
   "metadata": {},
   "source": [
    "We can see the distribution of the Sale Price does not follow a normal distribution and is positively skewed. This suggests there will be several upper outliers. "
   ]
  },
  {
   "cell_type": "code",
   "execution_count": 27,
   "metadata": {},
   "outputs": [
    {
     "data": {
      "image/png": "[encoded data removed]",
      "text/plain": [
       "<Figure size 432x432 with 1 Axes>"
      ]
     },
     "metadata": {
      "image/png": {
       "height": 357,
       "width": 394
      },
      "needs_background": "light"
     },
     "output_type": "display_data"
    }
   ],
   "source": [
    "replace_na.boxplot(column = 'SalePrice', figsize=(6,6));\n",
    "plt.savefig('Sale_price_boxplot.png')"
   ]
  },
  {
   "cell_type": "markdown",
   "metadata": {},
   "source": [
    "There are many upper outliers in the data but there are two data points in particular exceptionally far outside \n",
    "the range of values. I originally ran my models with these data points included, but when I plotted the predicted \n",
    "values Vs the real sale values, these appeared outside the trend of data. However, when i removed them and re-ran\n",
    "the models the mean CV score of each model actually decreased. Hence they have been included in the final models. "
   ]
  },
  {
   "cell_type": "code",
   "execution_count": 28,
   "metadata": {},
   "outputs": [],
   "source": [
    "# Dummify the data (all columns are now appropriate d-types except for Yr Sold, as I need to split on this)\n",
    "\n",
    "house_dum = pd.get_dummies(replace_na)"
   ]
  },
  {
   "cell_type": "code",
   "execution_count": 29,
   "metadata": {},
   "outputs": [],
   "source": [
    "house_test = house_dum[house_dum['YrSold'] == 2010]\n",
    "house_train = house_dum[house_dum['YrSold'] != 2010]"
   ]
  },
  {
   "cell_type": "code",
   "execution_count": 30,
   "metadata": {},
   "outputs": [
    {
     "name": "stdout",
     "output_type": "stream",
     "text": [
      "(140, 373)\n",
      "(1044, 373)\n"
     ]
    }
   ],
   "source": [
    "# Split out the fixed and non_fixed features\n",
    "\n",
    "# For fixed features I have chosen those indicators which would not require structural change to amend. \n",
    "\n",
    "fixed = ['MSSubClass','MSZoning','LotFrontage','LotArea','Street', 'Alley','LotShape', 'LandContour',\n",
    "        'LotConfig','LandSlope','Neighborhood','Condition1','Condition2','BldgType','HouseStyle','YearBuilt',\n",
    "        'MasVnrArea','Foundation','BsmtQual','TotalBsmtSF', '1stFlrSF','2ndFlrSF','GrLivArea','Fireplaces','GarageType', \n",
    "        'GarageYrBlt','GarageArea','OpenPorchSF','EnclosedPorch','3SsnPorch','ScreenPorch','PoolArea','MoSold',\n",
    "        'YrSold','SaleType','SaleCondition' ,'Utilities','Functional','SalePrice']\n",
    "\n",
    "# These column names have changed after dummifying, hence need a new list to collect these\n",
    "\n",
    "fixed_dum = []\n",
    "\n",
    "for i in fixed:\n",
    "    for j in house_dum.columns:\n",
    "        if i in j:\n",
    "            fixed_dum.append(j)\n",
    "\n",
    "house_test_fixed = house_test[fixed_dum]\n",
    "house_train_fixed = house_train[fixed_dum]\n",
    "\n",
    "print(house_test_fixed.shape)\n",
    "print(house_train_fixed.shape)\n",
    "\n"
   ]
  },
  {
   "cell_type": "code",
   "execution_count": 31,
   "metadata": {},
   "outputs": [
    {
     "name": "stdout",
     "output_type": "stream",
     "text": [
      "(140, 199)\n",
      "(1044, 199)\n"
     ]
    }
   ],
   "source": [
    "# Split out the non-fixed features into test and train (non 2010 and 2010) for later in the project \n",
    "\n",
    "# Non-fixed features have been chosen as those that do not require structural change to the property. \n",
    "\n",
    "non_fixed = ['OverallQual','OverallCond','RoofStyle','RoofMatl','Exterior1st','Exterior2nd','MasVnrType',\n",
    "             'ExterQual','ExterCond','BsmtCond','BsmtFinType1','BsmtFinSF1','BsmtFinType2','BsmtFinSF2',\n",
    "             'BsmtUnfSF','Heating','HeatingQC','CentralAir','Electrical','LowQualFinSF','BsmtFullBath',\n",
    "             'BsmtHalfBath','FullBath','HalfBath','BedroomAbvGr','KitchenAbvGr','KitchenQual','TotRmsAbvGrd',\n",
    "             'FireplaceQu','GarageFinish','GarageQual','GarageCond','PavedDrive','WoodDeckSF','PoolQC','Fence',\n",
    "             'Functional','BsmtExposure',\"SalePrice\"] \n",
    "\n",
    "non_fixed_dum = []\n",
    "\n",
    "for i in non_fixed:\n",
    "    for j in house_dum.columns:\n",
    "        if i in j:\n",
    "            non_fixed_dum.append(j)\n",
    "\n",
    "house_test_non_fixed = house_test[non_fixed_dum]\n",
    "house_train_non_fixed = house_train[non_fixed_dum]\n",
    "\n",
    "print(house_test_non_fixed.shape)\n",
    "print(house_train_non_fixed.shape)"
   ]
  },
  {
   "cell_type": "code",
   "execution_count": 32,
   "metadata": {},
   "outputs": [],
   "source": [
    "y_train = house_train_fixed.pop('SalePrice').values\n",
    "x_train = house_train_fixed\n",
    "\n",
    "y_test = house_test_fixed.pop('SalePrice').values\n",
    "x_test = house_test_fixed\n",
    "\n",
    "# Standardise the predictors\n",
    "scaler = StandardScaler()\n",
    "\n",
    "x_train_std = pd.DataFrame(scaler.fit_transform(x_train), \n",
    "                       columns=x_train.columns)\n",
    "\n",
    "# Notice below we only have transform not fit transform, it's already stored the fit values for the variables \n",
    "x_test_std = pd.DataFrame(scaler.transform(x_test), \n",
    "                      columns=x_train.columns)"
   ]
  },
  {
   "cell_type": "code",
   "execution_count": 33,
   "metadata": {},
   "outputs": [
    {
     "data": {
      "text/plain": [
       "(1044, 372)"
      ]
     },
     "execution_count": 33,
     "metadata": {},
     "output_type": "execute_result"
    }
   ],
   "source": [
    "x_train_std.shape"
   ]
  },
  {
   "cell_type": "code",
   "execution_count": 34,
   "metadata": {},
   "outputs": [],
   "source": [
    "# Train test split model fitter for data, used several times within the body of the project. \n",
    "\n",
    "def model_fitter(model, X_train, y_train, X_test, y_test, cv=5):\n",
    "    model.fit(X_train, y_train)\n",
    "    cv_scores = cross_val_score(model, X_train, y_train, cv=cv)\n",
    "    print(cv_scores)\n",
    "    cv_score = np.mean(cross_val_score(model, X_train, y_train, cv=cv))\n",
    "    training_score = model.score(X_train, y_train)\n",
    "    test_score = model.score(X_test, y_test)\n",
    "    return 'Mean cv score = {}, training score = {}, test score = {}.'.format(cv_score, training_score, test_score)\n"
   ]
  },
  {
   "cell_type": "markdown",
   "metadata": {},
   "source": [
    "## Basic Linear Regression Model"
   ]
  },
  {
   "cell_type": "code",
   "execution_count": 35,
   "metadata": {},
   "outputs": [
    {
     "name": "stdout",
     "output_type": "stream",
     "text": [
      "[-6.64064529e+26 -8.00161300e+25 -1.09125836e+26 -4.99664235e+25\n",
      " -3.68589479e+26]\n"
     ]
    },
    {
     "data": {
      "text/plain": [
       "'Mean cv score = -2.543524794538489e+26, training score = 0.8836089332822846, test score = -3.4849063835330534e+24.'"
      ]
     },
     "execution_count": 35,
     "metadata": {},
     "output_type": "execute_result"
    }
   ],
   "source": [
    "# Create a linear regression model instance\n",
    "\n",
    "LRmodel = LinearRegression()\n",
    "\n",
    "model_fitter(LRmodel, x_train_std, y_train, x_test_std, y_test)"
   ]
  },
  {
   "cell_type": "code",
   "execution_count": 36,
   "metadata": {},
   "outputs": [
    {
     "data": {
      "image/png": "[encoded data removed]",
      "text/plain": [
       "<Figure size 432x288 with 1 Axes>"
      ]
     },
     "metadata": {
      "image/png": {
       "height": 264,
       "width": 410
      },
      "needs_background": "light"
     },
     "output_type": "display_data"
    }
   ],
   "source": [
    "# The line / model\n",
    "predictions_test = LRmodel.predict(x_test)\n",
    "plt.scatter(predictions_test, y_test)\n",
    "plt.xlabel(\"Sale Price Predictions\")\n",
    "plt.ylabel(\"True Sale Price\")\n",
    "plt.show()"
   ]
  },
  {
   "cell_type": "markdown",
   "metadata": {},
   "source": [
    "### Analysis\n",
    "The Linear regression model is very unsuitable for the given data. Most of the R squared values within the CV are negative with the training score being high and the test score also being negative, this suggests that the model is overfit and another model will be more suitable. The plot of predictions against actual values does not show good positive correlation. "
   ]
  },
  {
   "cell_type": "markdown",
   "metadata": {},
   "source": [
    "## Lasso Model "
   ]
  },
  {
   "cell_type": "code",
   "execution_count": 37,
   "metadata": {
    "scrolled": true
   },
   "outputs": [
    {
     "data": {
      "text/plain": [
       "2413.449766361791"
      ]
     },
     "execution_count": 37,
     "metadata": {},
     "output_type": "execute_result"
    }
   ],
   "source": [
    "# Find the best alpha (kept decreasing log space until I got a stable value)\n",
    "\n",
    "model = LassoCV(alphas=np.logspace(3, 4, 10000))\n",
    "model.fit(x_train_std, y_train)\n",
    "model.alpha_"
   ]
  },
  {
   "cell_type": "code",
   "execution_count": 38,
   "metadata": {},
   "outputs": [],
   "source": [
    "# Make the lasso model \n",
    "\n",
    "LSmodel = Lasso(alpha=2413.449766361791)"
   ]
  },
  {
   "cell_type": "code",
   "execution_count": 39,
   "metadata": {},
   "outputs": [
    {
     "name": "stdout",
     "output_type": "stream",
     "text": [
      "[0.87555066 0.86511554 0.82894039 0.73718689 0.73647743 0.75240304\n",
      " 0.86031213 0.79387187 0.42525409 0.79352152]\n"
     ]
    },
    {
     "data": {
      "text/plain": [
       "'Mean cv score = 0.7668633542404983, training score = 0.8277772719813244, test score = 0.8494995777861584.'"
      ]
     },
     "execution_count": 39,
     "metadata": {},
     "output_type": "execute_result"
    }
   ],
   "source": [
    "model_fitter(LSmodel, x_train_std, y_train, x_test_std, y_test, cv=10)"
   ]
  },
  {
   "cell_type": "code",
   "execution_count": 40,
   "metadata": {},
   "outputs": [
    {
     "name": "stdout",
     "output_type": "stream",
     "text": [
      "(48, 2)\n"
     ]
    },
    {
     "data": {
      "text/html": [
       "<div>\n",
       "<style scoped>\n",
       "    .dataframe tbody tr th:only-of-type {\n",
       "        vertical-align: middle;\n",
       "    }\n",
       "\n",
       "    .dataframe tbody tr th {\n",
       "        vertical-align: top;\n",
       "    }\n",
       "\n",
       "    .dataframe thead th {\n",
       "        text-align: right;\n",
       "    }\n",
       "</style>\n",
       "<table border=\"1\" class=\"dataframe\">\n",
       "  <thead>\n",
       "    <tr style=\"text-align: right;\">\n",
       "      <th></th>\n",
       "      <th>Coef</th>\n",
       "      <th>Absolute Coef</th>\n",
       "    </tr>\n",
       "    <tr>\n",
       "      <th>Feature</th>\n",
       "      <th></th>\n",
       "      <th></th>\n",
       "    </tr>\n",
       "  </thead>\n",
       "  <tbody>\n",
       "    <tr>\n",
       "      <th>GrLivArea</th>\n",
       "      <td>27543.814383</td>\n",
       "      <td>27543.814383</td>\n",
       "    </tr>\n",
       "    <tr>\n",
       "      <th>BsmtQual_Ex</th>\n",
       "      <td>16622.681411</td>\n",
       "      <td>16622.681411</td>\n",
       "    </tr>\n",
       "    <tr>\n",
       "      <th>GarageArea</th>\n",
       "      <td>9626.486021</td>\n",
       "      <td>9626.486021</td>\n",
       "    </tr>\n",
       "    <tr>\n",
       "      <th>Neighborhood_NoRidge</th>\n",
       "      <td>8660.674399</td>\n",
       "      <td>8660.674399</td>\n",
       "    </tr>\n",
       "    <tr>\n",
       "      <th>Neighborhood_NridgHt</th>\n",
       "      <td>8433.910781</td>\n",
       "      <td>8433.910781</td>\n",
       "    </tr>\n",
       "    <tr>\n",
       "      <th>TotalBsmtSF</th>\n",
       "      <td>7027.755260</td>\n",
       "      <td>7027.755260</td>\n",
       "    </tr>\n",
       "    <tr>\n",
       "      <th>Neighborhood_StoneBr</th>\n",
       "      <td>6548.295233</td>\n",
       "      <td>6548.295233</td>\n",
       "    </tr>\n",
       "    <tr>\n",
       "      <th>Foundation_PConc</th>\n",
       "      <td>5052.544227</td>\n",
       "      <td>5052.544227</td>\n",
       "    </tr>\n",
       "    <tr>\n",
       "      <th>Fireplaces_2</th>\n",
       "      <td>4501.933375</td>\n",
       "      <td>4501.933375</td>\n",
       "    </tr>\n",
       "    <tr>\n",
       "      <th>Fireplaces_0</th>\n",
       "      <td>-4126.393182</td>\n",
       "      <td>4126.393182</td>\n",
       "    </tr>\n",
       "    <tr>\n",
       "      <th>Functional_Typ</th>\n",
       "      <td>3880.313695</td>\n",
       "      <td>3880.313695</td>\n",
       "    </tr>\n",
       "    <tr>\n",
       "      <th>BsmtQual_Gd</th>\n",
       "      <td>3516.298640</td>\n",
       "      <td>3516.298640</td>\n",
       "    </tr>\n",
       "    <tr>\n",
       "      <th>BldgType_1Fam</th>\n",
       "      <td>3152.718095</td>\n",
       "      <td>3152.718095</td>\n",
       "    </tr>\n",
       "    <tr>\n",
       "      <th>Condition2_PosN</th>\n",
       "      <td>-3103.203163</td>\n",
       "      <td>3103.203163</td>\n",
       "    </tr>\n",
       "    <tr>\n",
       "      <th>BsmtQual_TA</th>\n",
       "      <td>-3072.504368</td>\n",
       "      <td>3072.504368</td>\n",
       "    </tr>\n",
       "  </tbody>\n",
       "</table>\n",
       "</div>"
      ],
      "text/plain": [
       "                              Coef  Absolute Coef\n",
       "Feature                                          \n",
       "GrLivArea             27543.814383   27543.814383\n",
       "BsmtQual_Ex           16622.681411   16622.681411\n",
       "GarageArea             9626.486021    9626.486021\n",
       "Neighborhood_NoRidge   8660.674399    8660.674399\n",
       "Neighborhood_NridgHt   8433.910781    8433.910781\n",
       "TotalBsmtSF            7027.755260    7027.755260\n",
       "Neighborhood_StoneBr   6548.295233    6548.295233\n",
       "Foundation_PConc       5052.544227    5052.544227\n",
       "Fireplaces_2           4501.933375    4501.933375\n",
       "Fireplaces_0          -4126.393182    4126.393182\n",
       "Functional_Typ         3880.313695    3880.313695\n",
       "BsmtQual_Gd            3516.298640    3516.298640\n",
       "BldgType_1Fam          3152.718095    3152.718095\n",
       "Condition2_PosN       -3103.203163    3103.203163\n",
       "BsmtQual_TA           -3072.504368    3072.504368"
      ]
     },
     "execution_count": 40,
     "metadata": {},
     "output_type": "execute_result"
    }
   ],
   "source": [
    "LSmodel_coef = pd.DataFrame(list(zip(x_train_std.columns, LSmodel.coef_)))\n",
    "LSmodel_coef.columns = ['Feature', 'Coef']\n",
    "LSmodel_coef['Absolute Coef'] = LSmodel_coef.Coef.abs()\n",
    "sorted_LScoef = LSmodel_coef.sort_values(by='Absolute Coef', ascending = False)\n",
    "non_zero_coef = sorted_LScoef[sorted_LScoef.Coef != 0]\n",
    "non_zero_coef.set_index('Feature', inplace=True)\n",
    "print(non_zero_coef.shape)\n",
    "non_zero_coef.head(15)"
   ]
  },
  {
   "cell_type": "code",
   "execution_count": 41,
   "metadata": {},
   "outputs": [
    {
     "data": {
      "image/png": "[encoded data removed]",
      "text/plain": [
       "<Figure size 432x288 with 1 Axes>"
      ]
     },
     "metadata": {
      "image/png": {
       "height": 248,
       "width": 490
      },
      "needs_background": "light"
     },
     "output_type": "display_data"
    }
   ],
   "source": [
    "non_zero_coef.Coef.head(10).plot(kind='barh');"
   ]
  },
  {
   "cell_type": "code",
   "execution_count": 42,
   "metadata": {},
   "outputs": [
    {
     "data": {
      "image/png": "[encoded data removed]",
      "text/plain": [
       "<Figure size 432x288 with 1 Axes>"
      ]
     },
     "metadata": {
      "image/png": {
       "height": 264,
       "width": 410
      },
      "needs_background": "light"
     },
     "output_type": "display_data"
    }
   ],
   "source": [
    "# The line / model\n",
    "predictions_test = LSmodel.predict(x_test)\n",
    "plt.scatter(predictions_test, y_test)\n",
    "plt.xlabel(\"Sale Price Predictions\")\n",
    "plt.ylabel(\"True Sale Price\")\n",
    "plt.show()"
   ]
  },
  {
   "cell_type": "markdown",
   "metadata": {},
   "source": [
    "### Lasso Analysis\n",
    "\n",
    "Of the chosen fixed features most have 'zeroed out' on the Lasso model, leaving 48 features to contribute to the target variable of house price. Of these the features with the best positive impact are GrLivArea (Above grade (ground) living area square feet) and having an excellent basement, that is having a basement that exceeds 100 inches in height. The largest negative impacting feature is having a typical basement quality. \n",
    "\n",
    "This is unlikely to give the optimum solution as the mean CV score is significantly lower than the training score due to the impact of a low CV score in 1 of the K-Folds. \n",
    "\n",
    "The plot of sale predictions against the true sale price shows a positive correlation. \n"
   ]
  },
  {
   "cell_type": "markdown",
   "metadata": {},
   "source": [
    "## Ridge Model "
   ]
  },
  {
   "cell_type": "code",
   "execution_count": 43,
   "metadata": {},
   "outputs": [
    {
     "data": {
      "text/plain": [
       "866.5503048444525"
      ]
     },
     "execution_count": 43,
     "metadata": {},
     "output_type": "execute_result"
    }
   ],
   "source": [
    "model = RidgeCV(alphas=np.logspace(2, 3, 10000))\n",
    "model.fit(x_train_std, y_train)\n",
    "model.alpha_"
   ]
  },
  {
   "cell_type": "code",
   "execution_count": 44,
   "metadata": {},
   "outputs": [],
   "source": [
    "# Instantiate the Ridge model \n",
    "Rmodel = Ridge(alpha=866.5503048444525)"
   ]
  },
  {
   "cell_type": "code",
   "execution_count": 45,
   "metadata": {},
   "outputs": [
    {
     "name": "stdout",
     "output_type": "stream",
     "text": [
      "[0.88064021 0.81315646 0.8126398  0.72315241 0.70344484 0.76975769\n",
      " 0.86036527 0.80213966 0.47005843 0.80331485]\n"
     ]
    },
    {
     "data": {
      "text/plain": [
       "'Mean cv score = 0.763866961932827, training score = 0.8377056085898797, test score = 0.8375615121564935.'"
      ]
     },
     "execution_count": 45,
     "metadata": {},
     "output_type": "execute_result"
    }
   ],
   "source": [
    "model_fitter(Rmodel, x_train_std, y_train, x_test_std, y_test, cv=10)"
   ]
  },
  {
   "cell_type": "code",
   "execution_count": 46,
   "metadata": {},
   "outputs": [
    {
     "data": {
      "text/html": [
       "<div>\n",
       "<style scoped>\n",
       "    .dataframe tbody tr th:only-of-type {\n",
       "        vertical-align: middle;\n",
       "    }\n",
       "\n",
       "    .dataframe tbody tr th {\n",
       "        vertical-align: top;\n",
       "    }\n",
       "\n",
       "    .dataframe thead th {\n",
       "        text-align: right;\n",
       "    }\n",
       "</style>\n",
       "<table border=\"1\" class=\"dataframe\">\n",
       "  <thead>\n",
       "    <tr style=\"text-align: right;\">\n",
       "      <th></th>\n",
       "      <th>Coef</th>\n",
       "      <th>Absolute Coef</th>\n",
       "    </tr>\n",
       "    <tr>\n",
       "      <th>Feature</th>\n",
       "      <th></th>\n",
       "      <th></th>\n",
       "    </tr>\n",
       "  </thead>\n",
       "  <tbody>\n",
       "    <tr>\n",
       "      <th>GrLivArea</th>\n",
       "      <td>9434.970286</td>\n",
       "      <td>27543.814383</td>\n",
       "    </tr>\n",
       "    <tr>\n",
       "      <th>BsmtQual_Ex</th>\n",
       "      <td>8513.414483</td>\n",
       "      <td>16622.681411</td>\n",
       "    </tr>\n",
       "    <tr>\n",
       "      <th>GarageArea</th>\n",
       "      <td>6092.807449</td>\n",
       "      <td>9626.486021</td>\n",
       "    </tr>\n",
       "    <tr>\n",
       "      <th>Neighborhood_NoRidge</th>\n",
       "      <td>5865.375138</td>\n",
       "      <td>8660.674399</td>\n",
       "    </tr>\n",
       "    <tr>\n",
       "      <th>Neighborhood_NridgHt</th>\n",
       "      <td>5855.333699</td>\n",
       "      <td>8433.910781</td>\n",
       "    </tr>\n",
       "    <tr>\n",
       "      <th>TotalBsmtSF</th>\n",
       "      <td>6099.311929</td>\n",
       "      <td>7027.755260</td>\n",
       "    </tr>\n",
       "    <tr>\n",
       "      <th>Neighborhood_StoneBr</th>\n",
       "      <td>4755.623818</td>\n",
       "      <td>6548.295233</td>\n",
       "    </tr>\n",
       "    <tr>\n",
       "      <th>Foundation_PConc</th>\n",
       "      <td>2740.716636</td>\n",
       "      <td>5052.544227</td>\n",
       "    </tr>\n",
       "    <tr>\n",
       "      <th>Fireplaces_2</th>\n",
       "      <td>4608.770530</td>\n",
       "      <td>4501.933375</td>\n",
       "    </tr>\n",
       "    <tr>\n",
       "      <th>Fireplaces_0</th>\n",
       "      <td>-3593.158595</td>\n",
       "      <td>4126.393182</td>\n",
       "    </tr>\n",
       "    <tr>\n",
       "      <th>Functional_Typ</th>\n",
       "      <td>1650.525438</td>\n",
       "      <td>3880.313695</td>\n",
       "    </tr>\n",
       "    <tr>\n",
       "      <th>BsmtQual_Gd</th>\n",
       "      <td>-912.457064</td>\n",
       "      <td>3516.298640</td>\n",
       "    </tr>\n",
       "    <tr>\n",
       "      <th>BldgType_1Fam</th>\n",
       "      <td>1350.545377</td>\n",
       "      <td>3152.718095</td>\n",
       "    </tr>\n",
       "    <tr>\n",
       "      <th>Condition2_PosN</th>\n",
       "      <td>-2042.688238</td>\n",
       "      <td>3103.203163</td>\n",
       "    </tr>\n",
       "    <tr>\n",
       "      <th>BsmtQual_TA</th>\n",
       "      <td>-3491.185887</td>\n",
       "      <td>3072.504368</td>\n",
       "    </tr>\n",
       "  </tbody>\n",
       "</table>\n",
       "</div>"
      ],
      "text/plain": [
       "                             Coef  Absolute Coef\n",
       "Feature                                         \n",
       "GrLivArea             9434.970286   27543.814383\n",
       "BsmtQual_Ex           8513.414483   16622.681411\n",
       "GarageArea            6092.807449    9626.486021\n",
       "Neighborhood_NoRidge  5865.375138    8660.674399\n",
       "Neighborhood_NridgHt  5855.333699    8433.910781\n",
       "TotalBsmtSF           6099.311929    7027.755260\n",
       "Neighborhood_StoneBr  4755.623818    6548.295233\n",
       "Foundation_PConc      2740.716636    5052.544227\n",
       "Fireplaces_2          4608.770530    4501.933375\n",
       "Fireplaces_0         -3593.158595    4126.393182\n",
       "Functional_Typ        1650.525438    3880.313695\n",
       "BsmtQual_Gd           -912.457064    3516.298640\n",
       "BldgType_1Fam         1350.545377    3152.718095\n",
       "Condition2_PosN      -2042.688238    3103.203163\n",
       "BsmtQual_TA          -3491.185887    3072.504368"
      ]
     },
     "execution_count": 46,
     "metadata": {},
     "output_type": "execute_result"
    }
   ],
   "source": [
    "Rmodel_coef = pd.DataFrame(list(zip(x_train_std.columns, Rmodel.coef_)))\n",
    "Rmodel_coef.columns = ['Feature', 'Coef']\n",
    "Rmodel_coef['Absolute Coef'] = LSmodel_coef.Coef.abs()\n",
    "sorted_Rcoef = Rmodel_coef.sort_values(by='Absolute Coef', ascending = False)\n",
    "non_zero_coef = sorted_Rcoef[sorted_Rcoef.Coef != 0]\n",
    "non_zero_coef.set_index('Feature', inplace=True)\n",
    "non_zero_coef.head(15)"
   ]
  },
  {
   "cell_type": "code",
   "execution_count": 47,
   "metadata": {},
   "outputs": [
    {
     "data": {
      "image/png": "[encoded data removed]",
      "text/plain": [
       "<Figure size 432x288 with 1 Axes>"
      ]
     },
     "metadata": {
      "image/png": {
       "height": 248,
       "width": 504
      },
      "needs_background": "light"
     },
     "output_type": "display_data"
    }
   ],
   "source": [
    "non_zero_coef.Coef.head(10).plot(kind='barh');"
   ]
  },
  {
   "cell_type": "code",
   "execution_count": 48,
   "metadata": {},
   "outputs": [
    {
     "data": {
      "image/png": "[encoded data removed]",
      "text/plain": [
       "<Figure size 432x288 with 1 Axes>"
      ]
     },
     "metadata": {
      "image/png": {
       "height": 264,
       "width": 410
      },
      "needs_background": "light"
     },
     "output_type": "display_data"
    }
   ],
   "source": [
    "# The line / model\n",
    "predictions_test = Rmodel.predict(x_test)\n",
    "plt.scatter(predictions_test, y_test)\n",
    "plt.xlabel(\"Sale Price Predictions\")\n",
    "plt.ylabel(\"True Sale Price\")\n",
    "plt.show()"
   ]
  },
  {
   "cell_type": "markdown",
   "metadata": {},
   "source": [
    "### Ridge Analysis\n",
    "\n",
    "The Ridge scores for the model were appropriate but not as high as the Lasso scores, suggesting co-linearity in the data. Lasso remains the most appropriate model. "
   ]
  },
  {
   "cell_type": "markdown",
   "metadata": {},
   "source": [
    "## Elastic Net Model"
   ]
  },
  {
   "cell_type": "code",
   "execution_count": 49,
   "metadata": {},
   "outputs": [
    {
     "name": "stdout",
     "output_type": "stream",
     "text": [
      "639.4488428556944\n",
      "0.999\n"
     ]
    }
   ],
   "source": [
    "# Elastic Net \n",
    "\n",
    "ENmodel = ElasticNetCV(l1_ratio=[0.99,0.999,0.9999,0.99999, 1], \n",
    "                     alphas=np.logspace(2, 3, 1000))\n",
    "ENmodel.fit(x_train_std, y_train)\n",
    "print(ENmodel.alpha_)\n",
    "print(ENmodel.l1_ratio_)"
   ]
  },
  {
   "cell_type": "code",
   "execution_count": 50,
   "metadata": {},
   "outputs": [
    {
     "name": "stdout",
     "output_type": "stream",
     "text": [
      "[0.88179115 0.82670217 0.82399121 0.73701283 0.718813   0.77795628\n",
      " 0.86667957 0.80721003 0.46020864 0.81161666]\n"
     ]
    },
    {
     "data": {
      "text/plain": [
       "'Mean cv score = 0.771198154814647, training score = 0.8329321625650852, test score = 0.8453467630500859.'"
      ]
     },
     "execution_count": 50,
     "metadata": {},
     "output_type": "execute_result"
    }
   ],
   "source": [
    "ENmodel = ElasticNet(alpha=639.4488428556944, l1_ratio=0.999)\n",
    "model_fitter(ENmodel, x_train_std, y_train, x_test_std, y_test, cv=10)"
   ]
  },
  {
   "cell_type": "code",
   "execution_count": 52,
   "metadata": {},
   "outputs": [
    {
     "data": {
      "text/html": [
       "<div>\n",
       "<style scoped>\n",
       "    .dataframe tbody tr th:only-of-type {\n",
       "        vertical-align: middle;\n",
       "    }\n",
       "\n",
       "    .dataframe tbody tr th {\n",
       "        vertical-align: top;\n",
       "    }\n",
       "\n",
       "    .dataframe thead th {\n",
       "        text-align: right;\n",
       "    }\n",
       "</style>\n",
       "<table border=\"1\" class=\"dataframe\">\n",
       "  <thead>\n",
       "    <tr style=\"text-align: right;\">\n",
       "      <th></th>\n",
       "      <th>Coef</th>\n",
       "      <th>Absolute Coef</th>\n",
       "    </tr>\n",
       "    <tr>\n",
       "      <th>Feature</th>\n",
       "      <th></th>\n",
       "      <th></th>\n",
       "    </tr>\n",
       "  </thead>\n",
       "  <tbody>\n",
       "    <tr>\n",
       "      <th>GrLivArea</th>\n",
       "      <td>10646.503317</td>\n",
       "      <td>10646.503317</td>\n",
       "    </tr>\n",
       "    <tr>\n",
       "      <th>BsmtQual_Ex</th>\n",
       "      <td>9657.512172</td>\n",
       "      <td>9657.512172</td>\n",
       "    </tr>\n",
       "    <tr>\n",
       "      <th>1stFlrSF</th>\n",
       "      <td>7847.884308</td>\n",
       "      <td>7847.884308</td>\n",
       "    </tr>\n",
       "    <tr>\n",
       "      <th>GarageArea</th>\n",
       "      <td>6943.884247</td>\n",
       "      <td>6943.884247</td>\n",
       "    </tr>\n",
       "    <tr>\n",
       "      <th>TotalBsmtSF</th>\n",
       "      <td>6536.883169</td>\n",
       "      <td>6536.883169</td>\n",
       "    </tr>\n",
       "    <tr>\n",
       "      <th>Neighborhood_NridgHt</th>\n",
       "      <td>6379.326703</td>\n",
       "      <td>6379.326703</td>\n",
       "    </tr>\n",
       "    <tr>\n",
       "      <th>Neighborhood_NoRidge</th>\n",
       "      <td>6363.085862</td>\n",
       "      <td>6363.085862</td>\n",
       "    </tr>\n",
       "    <tr>\n",
       "      <th>2ndFlrSF</th>\n",
       "      <td>5269.207355</td>\n",
       "      <td>5269.207355</td>\n",
       "    </tr>\n",
       "    <tr>\n",
       "      <th>Neighborhood_StoneBr</th>\n",
       "      <td>5017.305934</td>\n",
       "      <td>5017.305934</td>\n",
       "    </tr>\n",
       "    <tr>\n",
       "      <th>MasVnrArea</th>\n",
       "      <td>4544.489266</td>\n",
       "      <td>4544.489266</td>\n",
       "    </tr>\n",
       "    <tr>\n",
       "      <th>Fireplaces_2</th>\n",
       "      <td>4439.506462</td>\n",
       "      <td>4439.506462</td>\n",
       "    </tr>\n",
       "    <tr>\n",
       "      <th>BsmtQual_TA</th>\n",
       "      <td>-3999.119434</td>\n",
       "      <td>3999.119434</td>\n",
       "    </tr>\n",
       "    <tr>\n",
       "      <th>Fireplaces_0</th>\n",
       "      <td>-3730.332298</td>\n",
       "      <td>3730.332298</td>\n",
       "    </tr>\n",
       "    <tr>\n",
       "      <th>LotArea</th>\n",
       "      <td>3495.200045</td>\n",
       "      <td>3495.200045</td>\n",
       "    </tr>\n",
       "    <tr>\n",
       "      <th>Foundation_PConc</th>\n",
       "      <td>3317.051954</td>\n",
       "      <td>3317.051954</td>\n",
       "    </tr>\n",
       "  </tbody>\n",
       "</table>\n",
       "</div>"
      ],
      "text/plain": [
       "                              Coef  Absolute Coef\n",
       "Feature                                          \n",
       "GrLivArea             10646.503317   10646.503317\n",
       "BsmtQual_Ex            9657.512172    9657.512172\n",
       "1stFlrSF               7847.884308    7847.884308\n",
       "GarageArea             6943.884247    6943.884247\n",
       "TotalBsmtSF            6536.883169    6536.883169\n",
       "Neighborhood_NridgHt   6379.326703    6379.326703\n",
       "Neighborhood_NoRidge   6363.085862    6363.085862\n",
       "2ndFlrSF               5269.207355    5269.207355\n",
       "Neighborhood_StoneBr   5017.305934    5017.305934\n",
       "MasVnrArea             4544.489266    4544.489266\n",
       "Fireplaces_2           4439.506462    4439.506462\n",
       "BsmtQual_TA           -3999.119434    3999.119434\n",
       "Fireplaces_0          -3730.332298    3730.332298\n",
       "LotArea                3495.200045    3495.200045\n",
       "Foundation_PConc       3317.051954    3317.051954"
      ]
     },
     "execution_count": 52,
     "metadata": {},
     "output_type": "execute_result"
    }
   ],
   "source": [
    "ENmodel_coef = pd.DataFrame(list(zip(x_train_std.columns, ENmodel.coef_)))\n",
    "ENmodel_coef.columns = ['Feature', 'Coef']\n",
    "ENmodel_coef['Absolute Coef'] = ENmodel_coef.Coef.abs()\n",
    "sorted_ENcoef = ENmodel_coef.sort_values(by='Absolute Coef', ascending = False)\n",
    "non_zero_coef = sorted_ENcoef[sorted_ENcoef.Coef != 0]\n",
    "non_zero_coef.set_index('Feature', inplace=True)\n",
    "non_zero_coef.head(15)"
   ]
  },
  {
   "cell_type": "code",
   "execution_count": 53,
   "metadata": {},
   "outputs": [
    {
     "data": {
      "image/png": "[encoded data removed]",
      "text/plain": [
       "<Figure size 432x288 with 1 Axes>"
      ]
     },
     "metadata": {
      "image/png": {
       "height": 264,
       "width": 490
      },
      "needs_background": "light"
     },
     "output_type": "display_data"
    }
   ],
   "source": [
    "non_zero_coef.Coef.head(10).plot(kind='barh')\n",
    "plt.xlabel('Importance of Feature');\n",
    "plt.savefig('Feature Importance.png',bbox_inches='tight')"
   ]
  },
  {
   "cell_type": "code",
   "execution_count": 54,
   "metadata": {},
   "outputs": [
    {
     "data": {
      "image/png": "[encoded data removed]",
      "text/plain": [
       "<Figure size 432x288 with 1 Axes>"
      ]
     },
     "metadata": {
      "image/png": {
       "height": 264,
       "width": 410
      },
      "needs_background": "light"
     },
     "output_type": "display_data"
    }
   ],
   "source": [
    "predictions_test = ENmodel.predict(x_test)\n",
    "plt.scatter(predictions_test, y_test)\n",
    "plt.xlabel(\"Sale Price Predictions\")\n",
    "plt.ylabel(\"True Sale Price\");\n",
    "plt.savefig('Predictions against true sale prices.png', bbox_inches='tight')"
   ]
  },
  {
   "cell_type": "markdown",
   "metadata": {},
   "source": [
    "### Elastic Net Analysis\n",
    "\n",
    "The Elastic net mean CV score is the highest of the four models, it ran very close to a full lasso model, but not completely, at an L1 ratio of 0.999. The true price Vs predictions plot shows excellent linear correlation baring a few exceptional outliers, which also appeared in the plots of other models. I did try to remove these and run the model again but this resulted in a lower mean CV value. \n",
    "\n",
    "Again the coefficients show that the above ground living area is the most important feature, adding close to £11,00 value to the house sale price, again a tall basement comes in a close 2nd. Unlike the other models there are no negatively correlated features in the top 15 features of the model. \n",
    "\n",
    "NOTE: I have declined to run a polynomial features model. The predictions Vs actual values plot shows good linear correlation and the training, test and mean CV values are such that the model already makes appropriate predictions, so a further polynomial analaysis is not necassary. "
   ]
  },
  {
   "cell_type": "markdown",
   "metadata": {},
   "source": [
    "## 2. Determine any value of *changeable* property characteristics unexplained by the *fixed* ones.\n",
    "\n",
    "---\n",
    "\n",
    "Now that I have a model that estimates the price of a house based on its static characteristics, I can move forward with part 2 and 3 of the plan: what are the costs/benefits of quality, condition, and renovations?\n",
    "\n",
    "There are two specific requirements for these estimates:\n",
    "1. The estimates of effects will be in terms of dollars added or subtracted from the house value. \n",
    "2. The effects will be on the variance in price remaining from the first model.\n",
    "\n",
    "The residuals from the first model (training and testing) represent the variance in price unexplained by the fixed characteristics. Of that variance in price remaining, how much of it can be explained by the easy-to-change aspects of the property?\n",
    "\n",
    "---\n",
    "\n",
    "**Goals:**\n",
    "1. Evaluate the effect in dollars of the renovatable features. \n",
    "- How would your company use this second model and its coefficients to determine whether they should buy a property or not? Explain how the company can use the two models you have built to determine if they can make money. \n",
    "- Investigate how much of the variance in price remaining is explained by these features.\n",
    "- Do you trust your model? Should it be used to evaluate which properties to buy and fix up?"
   ]
  },
  {
   "cell_type": "markdown",
   "metadata": {},
   "source": [
    "### Note\n",
    "To begin I intend to run the model again with all features to see the dollar changes to the Sale Price based on the featues in the non_fixed set. I'm not sure this is necassary within the project but have left it in regardless. "
   ]
  },
  {
   "cell_type": "code",
   "execution_count": 101,
   "metadata": {},
   "outputs": [],
   "source": [
    "x2_train = house_train_non_fixed"
   ]
  },
  {
   "cell_type": "code",
   "execution_count": 102,
   "metadata": {},
   "outputs": [],
   "source": [
    "y2_train = house_train_non_fixed.pop('SalePrice')"
   ]
  },
  {
   "cell_type": "code",
   "execution_count": 103,
   "metadata": {},
   "outputs": [
    {
     "data": {
      "text/plain": [
       "(1044, 198)"
      ]
     },
     "execution_count": 103,
     "metadata": {},
     "output_type": "execute_result"
    }
   ],
   "source": [
    "x2_train.shape"
   ]
  },
  {
   "cell_type": "code",
   "execution_count": 104,
   "metadata": {},
   "outputs": [],
   "source": [
    "y2_test = house_test_non_fixed.pop('SalePrice')"
   ]
  },
  {
   "cell_type": "code",
   "execution_count": 105,
   "metadata": {},
   "outputs": [],
   "source": [
    "x2_test = house_test_non_fixed"
   ]
  },
  {
   "cell_type": "code",
   "execution_count": 106,
   "metadata": {},
   "outputs": [],
   "source": [
    "# Standardise the predictors (note, the data is already dummified from part 1)\n",
    "scaler = StandardScaler()\n",
    "\n",
    "x2_train_std = pd.DataFrame(scaler.fit_transform(x2_train), \n",
    "                       columns=x2_train.columns)\n",
    "\n",
    "# Notice below we only have transform not fit transform, it's already stored the fit values for the variables \n",
    "x2_test_std = pd.DataFrame(scaler.transform(x2_test), \n",
    "                      columns=x2_test.columns)"
   ]
  },
  {
   "cell_type": "code",
   "execution_count": 107,
   "metadata": {},
   "outputs": [
    {
     "name": "stdout",
     "output_type": "stream",
     "text": [
      "[ 8.83052831e-01 -5.35719373e+26 -1.22392574e+25 -1.63707770e+26\n",
      " -9.60055875e+25 -3.57792074e+24 -2.04242899e+25 -2.87580155e+26\n",
      " -1.72589924e+26 -1.01930442e+26]\n"
     ]
    },
    {
     "data": {
      "text/plain": [
       "'Mean cv score = -1.3937747198490171e+26, training score = 0.8758589277857238, test score = -8.80374844755722e+23.'"
      ]
     },
     "execution_count": 107,
     "metadata": {},
     "output_type": "execute_result"
    }
   ],
   "source": [
    "# create a linear regression model instance\n",
    "\n",
    "LR2model = LinearRegression()\n",
    "\n",
    "model_fitter(LR2model, x2_train_std, y2_train, x2_test_std, y2_test, cv =10)"
   ]
  },
  {
   "cell_type": "code",
   "execution_count": 108,
   "metadata": {},
   "outputs": [
    {
     "data": {
      "text/plain": [
       "1518.5116977131504"
      ]
     },
     "execution_count": 108,
     "metadata": {},
     "output_type": "execute_result"
    }
   ],
   "source": [
    "# Find the best alpha (kept decreasing log space until I got a stable value)\n",
    "\n",
    "model = LassoCV(alphas=np.logspace(3, 4, 10000))\n",
    "model.fit(x2_train_std, y2_train)\n",
    "model.alpha_"
   ]
  },
  {
   "cell_type": "code",
   "execution_count": 109,
   "metadata": {},
   "outputs": [
    {
     "name": "stdout",
     "output_type": "stream",
     "text": [
      "[0.86335628 0.78127399 0.8679368  0.65012611 0.82680637 0.82371893\n",
      " 0.84106942 0.76884402 0.55151981 0.79484363]\n"
     ]
    },
    {
     "data": {
      "text/plain": [
       "'Mean cv score = 0.7769495356013619, training score = 0.8502964151463017, test score = 0.8610666258556552.'"
      ]
     },
     "execution_count": 109,
     "metadata": {},
     "output_type": "execute_result"
    }
   ],
   "source": [
    "LS2model = Lasso(alpha=1518.5116977131504)\n",
    "model_fitter(LS2model, x2_train_std, y2_train, x2_test_std, y2_test, cv=10)"
   ]
  },
  {
   "cell_type": "code",
   "execution_count": 110,
   "metadata": {},
   "outputs": [
    {
     "data": {
      "text/plain": [
       "399.908095683869"
      ]
     },
     "execution_count": 110,
     "metadata": {},
     "output_type": "execute_result"
    }
   ],
   "source": [
    "model = RidgeCV(alphas=np.logspace(2,3, 10000))\n",
    "model.fit(x2_train_std, y2_train)\n",
    "model.alpha_"
   ]
  },
  {
   "cell_type": "code",
   "execution_count": 111,
   "metadata": {},
   "outputs": [
    {
     "name": "stdout",
     "output_type": "stream",
     "text": [
      "[0.88143248 0.77928976 0.85324633 0.70168479 0.79963838 0.81025813\n",
      " 0.8326681  0.75890409 0.55498457 0.81167016]\n"
     ]
    },
    {
     "data": {
      "text/plain": [
       "'Mean cv score = 0.7783776782444731, training score = 0.8506962354256526, test score = 0.8500338037078615.'"
      ]
     },
     "execution_count": 111,
     "metadata": {},
     "output_type": "execute_result"
    }
   ],
   "source": [
    "R2model = Ridge(alpha=399.908095683869)\n",
    "model_fitter(R2model,x2_train_std, y2_train, x2_test_std, y2_test, cv=10)"
   ]
  },
  {
   "cell_type": "code",
   "execution_count": 112,
   "metadata": {},
   "outputs": [
    {
     "name": "stdout",
     "output_type": "stream",
     "text": [
      "1132.5413151528114\n",
      "0.9999\n"
     ]
    }
   ],
   "source": [
    "# Elastic Net \n",
    "\n",
    "EN2model = ElasticNetCV(l1_ratio=[0.99,0.999,0.9999,0.99999, 1], \n",
    "                     alphas=np.logspace(3, 4, 1000))\n",
    "EN2model.fit(x2_train_std, y2_train)\n",
    "print(EN2model.alpha_)\n",
    "print(EN2model.l1_ratio_)"
   ]
  },
  {
   "cell_type": "code",
   "execution_count": 113,
   "metadata": {},
   "outputs": [
    {
     "name": "stdout",
     "output_type": "stream",
     "text": [
      "[0.87695841 0.78150933 0.8605561  0.67618589 0.81789486 0.82153973\n",
      " 0.84572064 0.77304936 0.57399933 0.8072874 ]\n"
     ]
    },
    {
     "data": {
      "text/plain": [
       "'Mean cv score = 0.7834701050073491, training score = 0.8508054364339197, test score = 0.8565021051237848.'"
      ]
     },
     "execution_count": 113,
     "metadata": {},
     "output_type": "execute_result"
    }
   ],
   "source": [
    "EN2model = ElasticNet(alpha=1132.5413151528114, l1_ratio=0.9999)\n",
    "model_fitter(EN2model, x2_train_std, y2_train, x2_test_std, y2_test, cv=10)"
   ]
  },
  {
   "cell_type": "code",
   "execution_count": 114,
   "metadata": {},
   "outputs": [
    {
     "data": {
      "text/html": [
       "<div>\n",
       "<style scoped>\n",
       "    .dataframe tbody tr th:only-of-type {\n",
       "        vertical-align: middle;\n",
       "    }\n",
       "\n",
       "    .dataframe tbody tr th {\n",
       "        vertical-align: top;\n",
       "    }\n",
       "\n",
       "    .dataframe thead th {\n",
       "        text-align: right;\n",
       "    }\n",
       "</style>\n",
       "<table border=\"1\" class=\"dataframe\">\n",
       "  <thead>\n",
       "    <tr style=\"text-align: right;\">\n",
       "      <th></th>\n",
       "      <th>Coef</th>\n",
       "      <th>Absolute Coef</th>\n",
       "    </tr>\n",
       "    <tr>\n",
       "      <th>Feature</th>\n",
       "      <th></th>\n",
       "      <th></th>\n",
       "    </tr>\n",
       "  </thead>\n",
       "  <tbody>\n",
       "    <tr>\n",
       "      <th>OverallQual</th>\n",
       "      <td>19257.312885</td>\n",
       "      <td>19257.312885</td>\n",
       "    </tr>\n",
       "    <tr>\n",
       "      <th>BsmtFinSF1</th>\n",
       "      <td>13961.083180</td>\n",
       "      <td>13961.083180</td>\n",
       "    </tr>\n",
       "    <tr>\n",
       "      <th>RoofMatl_ClyTile</th>\n",
       "      <td>-9534.452933</td>\n",
       "      <td>9534.452933</td>\n",
       "    </tr>\n",
       "    <tr>\n",
       "      <th>FullBath_3</th>\n",
       "      <td>8806.524587</td>\n",
       "      <td>8806.524587</td>\n",
       "    </tr>\n",
       "    <tr>\n",
       "      <th>KitchenQual_Ex</th>\n",
       "      <td>8485.056200</td>\n",
       "      <td>8485.056200</td>\n",
       "    </tr>\n",
       "    <tr>\n",
       "      <th>TotRmsAbvGrd_10</th>\n",
       "      <td>7354.358842</td>\n",
       "      <td>7354.358842</td>\n",
       "    </tr>\n",
       "    <tr>\n",
       "      <th>BsmtUnfSF</th>\n",
       "      <td>6994.796471</td>\n",
       "      <td>6994.796471</td>\n",
       "    </tr>\n",
       "    <tr>\n",
       "      <th>FireplaceQu_None</th>\n",
       "      <td>-6396.215748</td>\n",
       "      <td>6396.215748</td>\n",
       "    </tr>\n",
       "    <tr>\n",
       "      <th>ExterQual_Ex</th>\n",
       "      <td>6344.618660</td>\n",
       "      <td>6344.618660</td>\n",
       "    </tr>\n",
       "    <tr>\n",
       "      <th>ExterQual_TA</th>\n",
       "      <td>-6083.649187</td>\n",
       "      <td>6083.649187</td>\n",
       "    </tr>\n",
       "    <tr>\n",
       "      <th>FullBath_1</th>\n",
       "      <td>-5188.565547</td>\n",
       "      <td>5188.565547</td>\n",
       "    </tr>\n",
       "    <tr>\n",
       "      <th>BsmtExposure_Gd</th>\n",
       "      <td>4787.137887</td>\n",
       "      <td>4787.137887</td>\n",
       "    </tr>\n",
       "    <tr>\n",
       "      <th>RoofMatl_WdShngl</th>\n",
       "      <td>4699.079828</td>\n",
       "      <td>4699.079828</td>\n",
       "    </tr>\n",
       "    <tr>\n",
       "      <th>TotRmsAbvGrd_9</th>\n",
       "      <td>4111.970015</td>\n",
       "      <td>4111.970015</td>\n",
       "    </tr>\n",
       "    <tr>\n",
       "      <th>PoolQC_Ex</th>\n",
       "      <td>4054.942090</td>\n",
       "      <td>4054.942090</td>\n",
       "    </tr>\n",
       "  </tbody>\n",
       "</table>\n",
       "</div>"
      ],
      "text/plain": [
       "                          Coef  Absolute Coef\n",
       "Feature                                      \n",
       "OverallQual       19257.312885   19257.312885\n",
       "BsmtFinSF1        13961.083180   13961.083180\n",
       "RoofMatl_ClyTile  -9534.452933    9534.452933\n",
       "FullBath_3         8806.524587    8806.524587\n",
       "KitchenQual_Ex     8485.056200    8485.056200\n",
       "TotRmsAbvGrd_10    7354.358842    7354.358842\n",
       "BsmtUnfSF          6994.796471    6994.796471\n",
       "FireplaceQu_None  -6396.215748    6396.215748\n",
       "ExterQual_Ex       6344.618660    6344.618660\n",
       "ExterQual_TA      -6083.649187    6083.649187\n",
       "FullBath_1        -5188.565547    5188.565547\n",
       "BsmtExposure_Gd    4787.137887    4787.137887\n",
       "RoofMatl_WdShngl   4699.079828    4699.079828\n",
       "TotRmsAbvGrd_9     4111.970015    4111.970015\n",
       "PoolQC_Ex          4054.942090    4054.942090"
      ]
     },
     "execution_count": 114,
     "metadata": {},
     "output_type": "execute_result"
    }
   ],
   "source": [
    "# Best model, get coefficients\n",
    "EN2model_coef = pd.DataFrame(list(zip(x2_train_std.columns, EN2model.coef_)))\n",
    "EN2model_coef.columns = ['Feature', 'Coef']\n",
    "EN2model_coef['Absolute Coef'] = EN2model_coef.Coef.abs()\n",
    "sorted_EN2coef = EN2model_coef.sort_values(by='Absolute Coef', ascending = False)\n",
    "non_zero_coef = sorted_EN2coef[sorted_EN2coef.Coef != 0]\n",
    "non_zero_coef.set_index('Feature', inplace=True)\n",
    "non_zero_coef.head(15)\n",
    "\n",
    "\n"
   ]
  },
  {
   "cell_type": "code",
   "execution_count": 115,
   "metadata": {},
   "outputs": [
    {
     "data": {
      "image/png": "[encoded data removed]",
      "text/plain": [
       "<Figure size 432x288 with 1 Axes>"
      ]
     },
     "metadata": {
      "image/png": {
       "height": 264,
       "width": 410
      },
      "needs_background": "light"
     },
     "output_type": "display_data"
    }
   ],
   "source": [
    "predictions_test = EN2model.predict(x2_test)\n",
    "plt.scatter(predictions_test, y2_test)\n",
    "plt.xlabel(\"Sale Price Predictions\")\n",
    "plt.ylabel(\"True Sale Price\")\n",
    "plt.show()"
   ]
  },
  {
   "cell_type": "markdown",
   "metadata": {},
   "source": [
    "### Analysis \n",
    "\n",
    "Again the elastic net model comes out on top with a mean CV score of 0.7834, again it ran very close to a Lasso model with an L1_ratio of 0.999. The plot of predicted against true sale shows pleasing positive correlation with no obvious outliers. \n",
    "\n",
    "The coefficients from the model show the effect of these features on sale price (assuming all other features constant). The most important non-fixed feature for predicting house sale is the Overall Quality of the property, adding a whooping 19,000 dollars to house price for every 1 point increase in the quality metric. The largest negative contributer to the sale price was Clay tiles on the roof, removing clay tiles would add a value of almost 10,000 dollars(again with other features remaining constant). "
   ]
  },
  {
   "cell_type": "markdown",
   "metadata": {},
   "source": [
    "## Looking at residuals \n",
    "Note: When I first attempted to add in my y_train and y_test values (the actual prices of the houses for the train and test set) to my residuals data frame hundreds of NaN values popped up, despite there being none of these in the originl 'y' series (which I checked several times). I'm not sure why, but using y.values rather than y on it's own, managed to sort this issue. Once I ran the model a 2nd time the .values was no longer required, this is very confusing. "
   ]
  },
  {
   "cell_type": "code",
   "execution_count": 116,
   "metadata": {},
   "outputs": [
    {
     "data": {
      "text/plain": [
       "(1044,)"
      ]
     },
     "execution_count": 116,
     "metadata": {},
     "output_type": "execute_result"
    }
   ],
   "source": [
    "y_train.shape"
   ]
  },
  {
   "cell_type": "code",
   "execution_count": 117,
   "metadata": {},
   "outputs": [
    {
     "data": {
      "text/html": [
       "<div>\n",
       "<style scoped>\n",
       "    .dataframe tbody tr th:only-of-type {\n",
       "        vertical-align: middle;\n",
       "    }\n",
       "\n",
       "    .dataframe tbody tr th {\n",
       "        vertical-align: top;\n",
       "    }\n",
       "\n",
       "    .dataframe thead th {\n",
       "        text-align: right;\n",
       "    }\n",
       "</style>\n",
       "<table border=\"1\" class=\"dataframe\">\n",
       "  <thead>\n",
       "    <tr style=\"text-align: right;\">\n",
       "      <th></th>\n",
       "      <th>Predictions</th>\n",
       "      <th>Actual Values</th>\n",
       "      <th>Residuals</th>\n",
       "    </tr>\n",
       "  </thead>\n",
       "  <tbody>\n",
       "    <tr>\n",
       "      <th>0</th>\n",
       "      <td>124484.340907</td>\n",
       "      <td>134800</td>\n",
       "      <td>10315.659093</td>\n",
       "    </tr>\n",
       "    <tr>\n",
       "      <th>1</th>\n",
       "      <td>302126.911936</td>\n",
       "      <td>306000</td>\n",
       "      <td>3873.088064</td>\n",
       "    </tr>\n",
       "    <tr>\n",
       "      <th>2</th>\n",
       "      <td>181019.528686</td>\n",
       "      <td>165500</td>\n",
       "      <td>-15519.528686</td>\n",
       "    </tr>\n",
       "    <tr>\n",
       "      <th>3</th>\n",
       "      <td>118087.434279</td>\n",
       "      <td>109000</td>\n",
       "      <td>-9087.434279</td>\n",
       "    </tr>\n",
       "    <tr>\n",
       "      <th>4</th>\n",
       "      <td>277934.819118</td>\n",
       "      <td>319900</td>\n",
       "      <td>41965.180882</td>\n",
       "    </tr>\n",
       "    <tr>\n",
       "      <th>...</th>\n",
       "      <td>...</td>\n",
       "      <td>...</td>\n",
       "      <td>...</td>\n",
       "    </tr>\n",
       "    <tr>\n",
       "      <th>135</th>\n",
       "      <td>127429.246234</td>\n",
       "      <td>119000</td>\n",
       "      <td>-8429.246234</td>\n",
       "    </tr>\n",
       "    <tr>\n",
       "      <th>136</th>\n",
       "      <td>141309.919943</td>\n",
       "      <td>149700</td>\n",
       "      <td>8390.080057</td>\n",
       "    </tr>\n",
       "    <tr>\n",
       "      <th>137</th>\n",
       "      <td>212879.731914</td>\n",
       "      <td>210000</td>\n",
       "      <td>-2879.731914</td>\n",
       "    </tr>\n",
       "    <tr>\n",
       "      <th>138</th>\n",
       "      <td>214588.898294</td>\n",
       "      <td>266500</td>\n",
       "      <td>51911.101706</td>\n",
       "    </tr>\n",
       "    <tr>\n",
       "      <th>139</th>\n",
       "      <td>130710.298386</td>\n",
       "      <td>142125</td>\n",
       "      <td>11414.701614</td>\n",
       "    </tr>\n",
       "  </tbody>\n",
       "</table>\n",
       "<p>140 rows × 3 columns</p>\n",
       "</div>"
      ],
      "text/plain": [
       "       Predictions  Actual Values     Residuals\n",
       "0    124484.340907         134800  10315.659093\n",
       "1    302126.911936         306000   3873.088064\n",
       "2    181019.528686         165500 -15519.528686\n",
       "3    118087.434279         109000  -9087.434279\n",
       "4    277934.819118         319900  41965.180882\n",
       "..             ...            ...           ...\n",
       "135  127429.246234         119000  -8429.246234\n",
       "136  141309.919943         149700   8390.080057\n",
       "137  212879.731914         210000  -2879.731914\n",
       "138  214588.898294         266500  51911.101706\n",
       "139  130710.298386         142125  11414.701614\n",
       "\n",
       "[140 rows x 3 columns]"
      ]
     },
     "execution_count": 117,
     "metadata": {},
     "output_type": "execute_result"
    }
   ],
   "source": [
    "# Start by finding the residuals from the Elastic Net Model in part 1 (used due to it's largest mean CV score)\n",
    "\n",
    "test_predict = ENmodel.predict(x_test_std)\n",
    "\n",
    "test_residuals = pd.DataFrame(test_predict)\n",
    "\n",
    "test_residuals.columns = ['Predictions']\n",
    "\n",
    "test_residuals['Actual Values'] = y_test\n",
    "\n",
    "test_residuals['Residuals'] = test_residuals['Actual Values'] - test_residuals['Predictions']\n",
    "\n",
    "test_residuals"
   ]
  },
  {
   "cell_type": "code",
   "execution_count": 118,
   "metadata": {},
   "outputs": [
    {
     "data": {
      "text/html": [
       "<div>\n",
       "<style scoped>\n",
       "    .dataframe tbody tr th:only-of-type {\n",
       "        vertical-align: middle;\n",
       "    }\n",
       "\n",
       "    .dataframe tbody tr th {\n",
       "        vertical-align: top;\n",
       "    }\n",
       "\n",
       "    .dataframe thead th {\n",
       "        text-align: right;\n",
       "    }\n",
       "</style>\n",
       "<table border=\"1\" class=\"dataframe\">\n",
       "  <thead>\n",
       "    <tr style=\"text-align: right;\">\n",
       "      <th></th>\n",
       "      <th>Predictions</th>\n",
       "      <th>Actual Values</th>\n",
       "      <th>Residuals</th>\n",
       "    </tr>\n",
       "  </thead>\n",
       "  <tbody>\n",
       "    <tr>\n",
       "      <th>0</th>\n",
       "      <td>194902.754514</td>\n",
       "      <td>208500</td>\n",
       "      <td>13597.245486</td>\n",
       "    </tr>\n",
       "    <tr>\n",
       "      <th>1</th>\n",
       "      <td>178294.043197</td>\n",
       "      <td>181500</td>\n",
       "      <td>3205.956803</td>\n",
       "    </tr>\n",
       "    <tr>\n",
       "      <th>2</th>\n",
       "      <td>212883.882086</td>\n",
       "      <td>223500</td>\n",
       "      <td>10616.117914</td>\n",
       "    </tr>\n",
       "    <tr>\n",
       "      <th>3</th>\n",
       "      <td>174818.460803</td>\n",
       "      <td>140000</td>\n",
       "      <td>-34818.460803</td>\n",
       "    </tr>\n",
       "    <tr>\n",
       "      <th>4</th>\n",
       "      <td>284877.550969</td>\n",
       "      <td>250000</td>\n",
       "      <td>-34877.550969</td>\n",
       "    </tr>\n",
       "    <tr>\n",
       "      <th>...</th>\n",
       "      <td>...</td>\n",
       "      <td>...</td>\n",
       "      <td>...</td>\n",
       "    </tr>\n",
       "    <tr>\n",
       "      <th>1039</th>\n",
       "      <td>134463.545360</td>\n",
       "      <td>145000</td>\n",
       "      <td>10536.454640</td>\n",
       "    </tr>\n",
       "    <tr>\n",
       "      <th>1040</th>\n",
       "      <td>144334.330135</td>\n",
       "      <td>84500</td>\n",
       "      <td>-59834.330135</td>\n",
       "    </tr>\n",
       "    <tr>\n",
       "      <th>1041</th>\n",
       "      <td>180474.684414</td>\n",
       "      <td>185000</td>\n",
       "      <td>4525.315586</td>\n",
       "    </tr>\n",
       "    <tr>\n",
       "      <th>1042</th>\n",
       "      <td>190048.387762</td>\n",
       "      <td>175000</td>\n",
       "      <td>-15048.387762</td>\n",
       "    </tr>\n",
       "    <tr>\n",
       "      <th>1043</th>\n",
       "      <td>139034.996592</td>\n",
       "      <td>147500</td>\n",
       "      <td>8465.003408</td>\n",
       "    </tr>\n",
       "  </tbody>\n",
       "</table>\n",
       "<p>1044 rows × 3 columns</p>\n",
       "</div>"
      ],
      "text/plain": [
       "        Predictions  Actual Values     Residuals\n",
       "0     194902.754514         208500  13597.245486\n",
       "1     178294.043197         181500   3205.956803\n",
       "2     212883.882086         223500  10616.117914\n",
       "3     174818.460803         140000 -34818.460803\n",
       "4     284877.550969         250000 -34877.550969\n",
       "...             ...            ...           ...\n",
       "1039  134463.545360         145000  10536.454640\n",
       "1040  144334.330135          84500 -59834.330135\n",
       "1041  180474.684414         185000   4525.315586\n",
       "1042  190048.387762         175000 -15048.387762\n",
       "1043  139034.996592         147500   8465.003408\n",
       "\n",
       "[1044 rows x 3 columns]"
      ]
     },
     "execution_count": 118,
     "metadata": {},
     "output_type": "execute_result"
    }
   ],
   "source": [
    "train_predict = ENmodel.predict(x_train_std)\n",
    "\n",
    "train_residuals = pd.DataFrame(train_predict)\n",
    "\n",
    "train_residuals.columns = ['Predictions']\n",
    "\n",
    "train_residuals['Actual Values'] = y_train\n",
    "\n",
    "train_residuals['Residuals'] = train_residuals['Actual Values'] - train_residuals['Predictions']\n",
    "\n",
    "train_residuals"
   ]
  },
  {
   "cell_type": "code",
   "execution_count": 119,
   "metadata": {},
   "outputs": [],
   "source": [
    "x3_train = house_train_non_fixed\n",
    "\n",
    "y3_train = train_residuals['Residuals']"
   ]
  },
  {
   "cell_type": "code",
   "execution_count": 120,
   "metadata": {},
   "outputs": [],
   "source": [
    "x3_test = house_test_non_fixed\n",
    "\n",
    "y3_test = test_residuals['Residuals']\n"
   ]
  },
  {
   "cell_type": "code",
   "execution_count": 121,
   "metadata": {},
   "outputs": [],
   "source": [
    "# Standardise the predictors\n",
    "\n",
    "scaler = StandardScaler()\n",
    "\n",
    "x3_train_std = pd.DataFrame(scaler.fit_transform(x3_train), \n",
    "                       columns=x3_train.columns)\n",
    "\n",
    "# Notice below we only have transform not fit transform, it's already stored the fit values for the variables \n",
    "x3_test_std = pd.DataFrame(scaler.transform(x3_test), \n",
    "                      columns=x3_train.columns)"
   ]
  },
  {
   "cell_type": "code",
   "execution_count": 122,
   "metadata": {},
   "outputs": [
    {
     "name": "stdout",
     "output_type": "stream",
     "text": [
      "[-5.99149739e+27 -1.13056255e+27 -2.59997753e+26 -7.15440631e+26\n",
      " -8.57988888e+26]\n"
     ]
    },
    {
     "data": {
      "text/plain": [
       "'Mean cv score = -1.7910974416698325e+27, training score = 0.5358878536244982, test score = -1.3868652489070474e+25.'"
      ]
     },
     "execution_count": 122,
     "metadata": {},
     "output_type": "execute_result"
    }
   ],
   "source": [
    "# Basic Linear Regression Model\n",
    "L3model = LinearRegression()\n",
    "\n",
    "model_fitter(L3model,x3_train_std, y3_train, x3_test_std, y3_test)"
   ]
  },
  {
   "cell_type": "code",
   "execution_count": 123,
   "metadata": {},
   "outputs": [
    {
     "data": {
      "text/plain": [
       "2423.1727942376006"
      ]
     },
     "execution_count": 123,
     "metadata": {},
     "output_type": "execute_result"
    }
   ],
   "source": [
    "# Lasso Model\n",
    "\n",
    "LS3model = LassoCV(alphas=np.logspace(3,6,1000))\n",
    "LS3model.fit(x3_train_std, y3_train)\n",
    "LS3model.alpha_"
   ]
  },
  {
   "cell_type": "code",
   "execution_count": 124,
   "metadata": {},
   "outputs": [
    {
     "name": "stdout",
     "output_type": "stream",
     "text": [
      "[0.12801217 0.16810036 0.30332294 0.25174858 0.00454149]\n"
     ]
    },
    {
     "data": {
      "text/plain": [
       "'Mean cv score = 0.17114510838030308, training score = 0.42033092616604584, test score = -4.222527910452425.'"
      ]
     },
     "execution_count": 124,
     "metadata": {},
     "output_type": "execute_result"
    }
   ],
   "source": [
    "LS3model = Lasso(alpha=2423.1727942376006)\n",
    "model_fitter(LS3model, x3_train_std, y3_train, x3_test_std, y_test, cv=5)"
   ]
  },
  {
   "cell_type": "code",
   "execution_count": 125,
   "metadata": {},
   "outputs": [
    {
     "data": {
      "text/html": [
       "<div>\n",
       "<style scoped>\n",
       "    .dataframe tbody tr th:only-of-type {\n",
       "        vertical-align: middle;\n",
       "    }\n",
       "\n",
       "    .dataframe tbody tr th {\n",
       "        vertical-align: top;\n",
       "    }\n",
       "\n",
       "    .dataframe thead th {\n",
       "        text-align: right;\n",
       "    }\n",
       "</style>\n",
       "<table border=\"1\" class=\"dataframe\">\n",
       "  <thead>\n",
       "    <tr style=\"text-align: right;\">\n",
       "      <th></th>\n",
       "      <th>Coef</th>\n",
       "      <th>Absolute Coef</th>\n",
       "    </tr>\n",
       "    <tr>\n",
       "      <th>Feature</th>\n",
       "      <th></th>\n",
       "      <th></th>\n",
       "    </tr>\n",
       "  </thead>\n",
       "  <tbody>\n",
       "    <tr>\n",
       "      <th>RoofMatl_ClyTile</th>\n",
       "      <td>-10722.393664</td>\n",
       "      <td>10722.393664</td>\n",
       "    </tr>\n",
       "    <tr>\n",
       "      <th>OverallQual</th>\n",
       "      <td>5166.939752</td>\n",
       "      <td>5166.939752</td>\n",
       "    </tr>\n",
       "    <tr>\n",
       "      <th>KitchenQual_Ex</th>\n",
       "      <td>4261.764128</td>\n",
       "      <td>4261.764128</td>\n",
       "    </tr>\n",
       "    <tr>\n",
       "      <th>OverallCond</th>\n",
       "      <td>4255.455040</td>\n",
       "      <td>4255.455040</td>\n",
       "    </tr>\n",
       "    <tr>\n",
       "      <th>FullBath_3</th>\n",
       "      <td>3400.849200</td>\n",
       "      <td>3400.849200</td>\n",
       "    </tr>\n",
       "    <tr>\n",
       "      <th>RoofMatl_WdShngl</th>\n",
       "      <td>3213.304021</td>\n",
       "      <td>3213.304021</td>\n",
       "    </tr>\n",
       "    <tr>\n",
       "      <th>BsmtFinSF1</th>\n",
       "      <td>2870.473041</td>\n",
       "      <td>2870.473041</td>\n",
       "    </tr>\n",
       "    <tr>\n",
       "      <th>PoolQC_Ex</th>\n",
       "      <td>2754.101312</td>\n",
       "      <td>2754.101312</td>\n",
       "    </tr>\n",
       "    <tr>\n",
       "      <th>BsmtExposure_Gd</th>\n",
       "      <td>2074.533006</td>\n",
       "      <td>2074.533006</td>\n",
       "    </tr>\n",
       "    <tr>\n",
       "      <th>BsmtFinType1_GLQ</th>\n",
       "      <td>1308.102934</td>\n",
       "      <td>1308.102934</td>\n",
       "    </tr>\n",
       "    <tr>\n",
       "      <th>TotRmsAbvGrd_10</th>\n",
       "      <td>1110.841431</td>\n",
       "      <td>1110.841431</td>\n",
       "    </tr>\n",
       "    <tr>\n",
       "      <th>BsmtFinType1_Unf</th>\n",
       "      <td>-749.748640</td>\n",
       "      <td>749.748640</td>\n",
       "    </tr>\n",
       "    <tr>\n",
       "      <th>BedroomAbvGr_5</th>\n",
       "      <td>-520.109190</td>\n",
       "      <td>520.109190</td>\n",
       "    </tr>\n",
       "    <tr>\n",
       "      <th>BsmtExposure_No</th>\n",
       "      <td>-172.146574</td>\n",
       "      <td>172.146574</td>\n",
       "    </tr>\n",
       "  </tbody>\n",
       "</table>\n",
       "</div>"
      ],
      "text/plain": [
       "                          Coef  Absolute Coef\n",
       "Feature                                      \n",
       "RoofMatl_ClyTile -10722.393664   10722.393664\n",
       "OverallQual        5166.939752    5166.939752\n",
       "KitchenQual_Ex     4261.764128    4261.764128\n",
       "OverallCond        4255.455040    4255.455040\n",
       "FullBath_3         3400.849200    3400.849200\n",
       "RoofMatl_WdShngl   3213.304021    3213.304021\n",
       "BsmtFinSF1         2870.473041    2870.473041\n",
       "PoolQC_Ex          2754.101312    2754.101312\n",
       "BsmtExposure_Gd    2074.533006    2074.533006\n",
       "BsmtFinType1_GLQ   1308.102934    1308.102934\n",
       "TotRmsAbvGrd_10    1110.841431    1110.841431\n",
       "BsmtFinType1_Unf   -749.748640     749.748640\n",
       "BedroomAbvGr_5     -520.109190     520.109190\n",
       "BsmtExposure_No    -172.146574     172.146574"
      ]
     },
     "execution_count": 125,
     "metadata": {},
     "output_type": "execute_result"
    }
   ],
   "source": [
    "LS3model_coef = pd.DataFrame(list(zip(x3_train_std.columns, LS3model.coef_)))\n",
    "LS3model_coef.columns = ['Feature', 'Coef']\n",
    "LS3model_coef['Absolute Coef'] = LS3model_coef.Coef.abs()\n",
    "sorted_LS3coef = LS3model_coef.sort_values(by='Absolute Coef', ascending = False)\n",
    "non_zero_coef = sorted_LS3coef[sorted_LS3coef.Coef != 0]\n",
    "non_zero_coef.set_index('Feature', inplace=True)\n",
    "non_zero_coef.head(15)"
   ]
  },
  {
   "cell_type": "code",
   "execution_count": 126,
   "metadata": {},
   "outputs": [
    {
     "name": "stdout",
     "output_type": "stream",
     "text": [
      "2420.6038793613898\n",
      "1.0\n"
     ]
    }
   ],
   "source": [
    "# Elastic Net \n",
    "\n",
    "EN3model = ElasticNetCV(l1_ratio=[0.1,0.2,0.3,0.4,0.5,0.7,0.7,0.8,0.9,1], \n",
    "                     )\n",
    "EN3model.fit(x3_train_std, y3_train)\n",
    "print(EN3model.alpha_)\n",
    "print(EN3model.l1_ratio_)"
   ]
  },
  {
   "cell_type": "code",
   "execution_count": 127,
   "metadata": {},
   "outputs": [
    {
     "data": {
      "text/plain": [
       "1785.7686009226109"
      ]
     },
     "execution_count": 127,
     "metadata": {},
     "output_type": "execute_result"
    }
   ],
   "source": [
    "# Ridge Model \n",
    "\n",
    "R3model = RidgeCV(alphas=np.logspace(3,4, 10000))\n",
    "R3model.fit(x3_train_std, y3_train)\n",
    "R3model.alpha_"
   ]
  },
  {
   "cell_type": "code",
   "execution_count": 128,
   "metadata": {},
   "outputs": [
    {
     "name": "stdout",
     "output_type": "stream",
     "text": [
      "[0.18430318 0.14486221 0.25816008 0.25307138 0.00239007]\n"
     ]
    },
    {
     "data": {
      "text/plain": [
       "'Mean cv score = 0.16855738439115725, training score = 0.386154401339878, test score = 0.32823273144787013.'"
      ]
     },
     "execution_count": 128,
     "metadata": {},
     "output_type": "execute_result"
    }
   ],
   "source": [
    "R3model = Ridge(alpha=1785.7686009226109)\n",
    "model_fitter(R3model, x3_train_std, y3_train, x3_test_std, y3_test)"
   ]
  },
  {
   "cell_type": "code",
   "execution_count": 129,
   "metadata": {},
   "outputs": [
    {
     "data": {
      "text/html": [
       "<div>\n",
       "<style scoped>\n",
       "    .dataframe tbody tr th:only-of-type {\n",
       "        vertical-align: middle;\n",
       "    }\n",
       "\n",
       "    .dataframe tbody tr th {\n",
       "        vertical-align: top;\n",
       "    }\n",
       "\n",
       "    .dataframe thead th {\n",
       "        text-align: right;\n",
       "    }\n",
       "</style>\n",
       "<table border=\"1\" class=\"dataframe\">\n",
       "  <thead>\n",
       "    <tr style=\"text-align: right;\">\n",
       "      <th></th>\n",
       "      <th>Coef</th>\n",
       "      <th>Absolute Coef</th>\n",
       "    </tr>\n",
       "    <tr>\n",
       "      <th>Feature</th>\n",
       "      <th></th>\n",
       "      <th></th>\n",
       "    </tr>\n",
       "  </thead>\n",
       "  <tbody>\n",
       "    <tr>\n",
       "      <th>RoofMatl_ClyTile</th>\n",
       "      <td>-3921.003493</td>\n",
       "      <td>3921.003493</td>\n",
       "    </tr>\n",
       "    <tr>\n",
       "      <th>FullBath_3</th>\n",
       "      <td>2215.969691</td>\n",
       "      <td>2215.969691</td>\n",
       "    </tr>\n",
       "    <tr>\n",
       "      <th>OverallCond</th>\n",
       "      <td>2136.615359</td>\n",
       "      <td>2136.615359</td>\n",
       "    </tr>\n",
       "    <tr>\n",
       "      <th>RoofMatl_WdShngl</th>\n",
       "      <td>2050.771904</td>\n",
       "      <td>2050.771904</td>\n",
       "    </tr>\n",
       "    <tr>\n",
       "      <th>OverallQual</th>\n",
       "      <td>2009.150050</td>\n",
       "      <td>2009.150050</td>\n",
       "    </tr>\n",
       "    <tr>\n",
       "      <th>KitchenQual_Ex</th>\n",
       "      <td>1954.797879</td>\n",
       "      <td>1954.797879</td>\n",
       "    </tr>\n",
       "    <tr>\n",
       "      <th>PoolQC_Gd</th>\n",
       "      <td>-1881.973439</td>\n",
       "      <td>1881.973439</td>\n",
       "    </tr>\n",
       "    <tr>\n",
       "      <th>PoolQC_Ex</th>\n",
       "      <td>1840.345287</td>\n",
       "      <td>1840.345287</td>\n",
       "    </tr>\n",
       "    <tr>\n",
       "      <th>TotRmsAbvGrd_10</th>\n",
       "      <td>1468.087925</td>\n",
       "      <td>1468.087925</td>\n",
       "    </tr>\n",
       "    <tr>\n",
       "      <th>BsmtExposure_Gd</th>\n",
       "      <td>1454.243175</td>\n",
       "      <td>1454.243175</td>\n",
       "    </tr>\n",
       "    <tr>\n",
       "      <th>BsmtFinType1_GLQ</th>\n",
       "      <td>1180.521423</td>\n",
       "      <td>1180.521423</td>\n",
       "    </tr>\n",
       "    <tr>\n",
       "      <th>BedroomAbvGr_5</th>\n",
       "      <td>-1158.101700</td>\n",
       "      <td>1158.101700</td>\n",
       "    </tr>\n",
       "    <tr>\n",
       "      <th>FireplaceQu_Ex</th>\n",
       "      <td>1153.553760</td>\n",
       "      <td>1153.553760</td>\n",
       "    </tr>\n",
       "    <tr>\n",
       "      <th>BsmtFinType1_Unf</th>\n",
       "      <td>-1095.386006</td>\n",
       "      <td>1095.386006</td>\n",
       "    </tr>\n",
       "    <tr>\n",
       "      <th>BedroomAbvGr_4</th>\n",
       "      <td>1026.076643</td>\n",
       "      <td>1026.076643</td>\n",
       "    </tr>\n",
       "  </tbody>\n",
       "</table>\n",
       "</div>"
      ],
      "text/plain": [
       "                         Coef  Absolute Coef\n",
       "Feature                                     \n",
       "RoofMatl_ClyTile -3921.003493    3921.003493\n",
       "FullBath_3        2215.969691    2215.969691\n",
       "OverallCond       2136.615359    2136.615359\n",
       "RoofMatl_WdShngl  2050.771904    2050.771904\n",
       "OverallQual       2009.150050    2009.150050\n",
       "KitchenQual_Ex    1954.797879    1954.797879\n",
       "PoolQC_Gd        -1881.973439    1881.973439\n",
       "PoolQC_Ex         1840.345287    1840.345287\n",
       "TotRmsAbvGrd_10   1468.087925    1468.087925\n",
       "BsmtExposure_Gd   1454.243175    1454.243175\n",
       "BsmtFinType1_GLQ  1180.521423    1180.521423\n",
       "BedroomAbvGr_5   -1158.101700    1158.101700\n",
       "FireplaceQu_Ex    1153.553760    1153.553760\n",
       "BsmtFinType1_Unf -1095.386006    1095.386006\n",
       "BedroomAbvGr_4    1026.076643    1026.076643"
      ]
     },
     "execution_count": 129,
     "metadata": {},
     "output_type": "execute_result"
    }
   ],
   "source": [
    "R3model_coef = pd.DataFrame(list(zip(x3_train_std.columns, R3model.coef_)))\n",
    "R3model_coef.columns = ['Feature', 'Coef']\n",
    "R3model_coef['Absolute Coef'] = R3model_coef.Coef.abs()\n",
    "sorted_R3coef = R3model_coef.sort_values(by='Absolute Coef', ascending = False)\n",
    "non_zero_coef = sorted_R3coef[sorted_R3coef.Coef != 0]\n",
    "non_zero_coef.set_index('Feature', inplace=True)\n",
    "non_zero_coef.head(15)"
   ]
  },
  {
   "cell_type": "code",
   "execution_count": 131,
   "metadata": {},
   "outputs": [
    {
     "data": {
      "image/png": "[encoded data removed]",
      "text/plain": [
       "<Figure size 432x288 with 1 Axes>"
      ]
     },
     "metadata": {
      "image/png": {
       "height": 265,
       "width": 465
      },
      "needs_background": "light"
     },
     "output_type": "display_data"
    }
   ],
   "source": [
    "non_zero_coef.Coef.head(10).plot(kind='barh')\n",
    "plt.title('Feature Importance in Dollars');\n",
    "plt.savefig('Non fixed feature importance')"
   ]
  },
  {
   "cell_type": "code",
   "execution_count": 132,
   "metadata": {},
   "outputs": [
    {
     "data": {
      "image/png": "[encoded data removed]",
      "text/plain": [
       "<Figure size 432x288 with 1 Axes>"
      ]
     },
     "metadata": {
      "image/png": {
       "height": 264,
       "width": 412
      },
      "needs_background": "light"
     },
     "output_type": "display_data"
    }
   ],
   "source": [
    "predictions_test = R3model.predict(x3_test)\n",
    "plt.scatter(predictions_test, y3_test)\n",
    "plt.xlabel(\"Sale Price Predictions\")\n",
    "plt.ylabel(\"True Sale Price\");\n",
    "plt.savefig('non fixed predictions against true')"
   ]
  },
  {
   "cell_type": "markdown",
   "metadata": {},
   "source": [
    "This models looks like it might benefit from a quadratic polynomial features modelling. "
   ]
  },
  {
   "cell_type": "markdown",
   "metadata": {},
   "source": [
    "Your goals:\n",
    "\n",
    "Evaluate the effect in dollars of the renovatable features.\n",
    "How would your company use this second model and its coefficients to determine whether they should buy a property or not? Explain how the company can use the two models you have built to determine if they can make money.\n",
    "Investigate how much of the variance in price remaining is explained by these features.\n",
    "Do you trust your model? Should it be used to evaluate which properties to buy and fix up?"
   ]
  },
  {
   "cell_type": "markdown",
   "metadata": {},
   "source": [
    "### Residual Analysis\n",
    "\n",
    "Although the Lasso model came out with the largest mean CV score it did not generalise well as seen by the negative R2 score on the test data. The Elastic Net ratio came out as 1, meaning a full Lasso model. The Ridge model had a slightly lower CV score than the Lasso but did generalise better, hence this is my preffered model. \n",
    "\n",
    "The largest contributer to the variance in residuals is clay tiles, this is a negative relationship meaning that removing clay tiles from a house can add almost 40000 to the sale price of the house, other features being fixed. The largerst positive contributer to the variance in residuals is full bath 3, meaning that having three above grade bathrooms contributes around 2200 to the house sale price. \n",
    "\n"
   ]
  },
  {
   "cell_type": "markdown",
   "metadata": {},
   "source": [
    "### Conclusions\n",
    "\n",
    "The first model shows the main features the company should look for in a house for it to have a higher sale value, a large above groudn living area, a basement of large height, a large first floor area, a large garage area and a large basement area. As we can see these features are based on the size of the house, hence when buying property, bigger is better! It is important to note that the R2 squared value for the best model is around 0.75, meaning the model only accounts for around 75% of the varaince between actual and predicted prices. \n",
    "\n",
    "The second model is more tenuous, we can see from the best model run on the residuals from part 1 that even in the best case scenario only around 17% of the difference between actual and predicted price can be explained by recourse to the non-fixed features of the property, the rest being accounted for by the imperfectness of our model from part 1.\n",
    "Hence I would not recommend buying houses in order to 'fix them up' and expect to do particularly well. However, where houses have already been purchased I would recommend removing clay tiles from the roof and replacing with wooden shinglts, increasing the quality of bathrooms and increasing the overall quality and condition of the property, as cheaply as possible, to add some value to the Sale Price\n",
    "\n",
    "Construction and labour would be better served by building an extension / loft conversion in the house, where availble and where planning permission would be granted, in order to increase the overall living area of the property, as this is the largest indicator of sale price.\n",
    "\n",
    "I would not be comfortable using the second model to choose which houses to buy and renovate, instead I would focus on buying larger properties."
   ]
  },
  {
   "cell_type": "markdown",
   "metadata": {},
   "source": [
    "\n",
    "## 3. What property characteristics predict an \"abnormal\" sale?\n",
    "\n",
    "---\n",
    "\n",
    "The `SaleCondition` feature indicates the circumstances of the house sale. From the data file, we can see that the possibilities are:\n",
    "\n",
    "       Normal\tNormal Sale\n",
    "       Abnorml\tAbnormal Sale -  trade, foreclosure, short sale\n",
    "       AdjLand\tAdjoining Land Purchase\n",
    "       Alloca\tAllocation - two linked properties with separate deeds, typically condo with a garage unit\t\n",
    "       Family\tSale between family members\n",
    "       Partial\tHome was not completed when last assessed (associated with New Homes)\n",
    "       \n",
    "One of the executives my your company has an \"in\" with higher-ups at the major regional bank. His friends at the bank have made him a proposal: if he can reliably indicate what features, if any, predict \"abnormal\" sales (foreclosures, short sales, etc.), then in return the bank will give him first dibs on the pre-auction purchase of those properties (at a dirt-cheap price).\n",
    "\n",
    "He has tasked me with determining (and adequately validating) which features of a property predict this type of sale. \n",
    "\n",
    "---\n",
    "\n",
    "**Task:**\n",
    "1. Determine which features predict the `Abnorml` category in the `SaleCondition` feature.\n",
    "- Justify your results."
   ]
  },
  {
   "cell_type": "markdown",
   "metadata": {},
   "source": [
    "### Notes\n",
    "\n",
    "For this part of the project I tried several methods, not all of which have been included below (due to lack of success). For each of these I have re-labelled all non-abnormal house sales as 'other' and attempted to predict the abnormal sales from this set. This leaves a significant class imbalance which I have attempted to address below. An overview of attempted methods that have not been included are below:\n",
    "\n",
    "- Logistic regression with gridsearch optimised paramters for all features (not useful, mean CV score came out barely above the baseline, due to the class imbalance this baseline would be difficult to exceed!)\n",
    "\n",
    "- KNN logisitic regression with gridsearch optimised parameters for all features \n",
    "\n",
    "- KNN logistic regression with gridsearch optimised parameters for the subset of features identified by the Lasso penalty logistic regression gridsearch (Mean CV Score lower than Lasso penalty model)"
   ]
  },
  {
   "cell_type": "code",
   "execution_count": null,
   "metadata": {},
   "outputs": [],
   "source": [
    "replace_na.SaleCondition.unique()"
   ]
  },
  {
   "cell_type": "code",
   "execution_count": null,
   "metadata": {},
   "outputs": [],
   "source": [
    "replace_na['SaleCondition'] = replace_na.SaleCondition.map(lambda x: x if x == 'Abnorml' else 'Other')\n",
    "replace_na.SaleCondition.value_counts(normalize=True)\n",
    "\n",
    "# The base rate for this would be 93% accuracy"
   ]
  },
  {
   "cell_type": "code",
   "execution_count": null,
   "metadata": {},
   "outputs": [],
   "source": [
    "replace_na_classification = replace_na.drop(columns=['Id','SalePrice','MiscFeature'])"
   ]
  },
  {
   "cell_type": "code",
   "execution_count": null,
   "metadata": {},
   "outputs": [],
   "source": [
    "replace_na.describe(include='all')"
   ]
  },
  {
   "cell_type": "code",
   "execution_count": null,
   "metadata": {},
   "outputs": [],
   "source": [
    "# Eyeballing the features of abnormal sales\n",
    "\n",
    "replace_na_classification[replace_na_classification['SaleCondition']=='Abnorml'].head()"
   ]
  },
  {
   "cell_type": "markdown",
   "metadata": {},
   "source": [
    "### Note\n",
    "I did originally run a classification model with all features, however even where the model guesses all the majority class the R2 score is very high due to the high baseline. Hence I read about dealing with class imbalance and the method for this is detailed below. "
   ]
  },
  {
   "cell_type": "code",
   "execution_count": null,
   "metadata": {},
   "outputs": [],
   "source": [
    "from sklearn import datasets, metrics\n",
    "from sklearn.preprocessing import StandardScaler\n",
    "from sklearn.linear_model import LogisticRegression, LogisticRegressionCV\n",
    "from sklearn.model_selection import train_test_split, cross_val_score, GridSearchCV"
   ]
  },
  {
   "cell_type": "markdown",
   "metadata": {},
   "source": [
    "### Dealing with class imbalance: Undersampling\n",
    "Rationale: We have a large set of data, hence oversampling would increase this size so not appropriate.\n",
    "\n",
    "Method: Take a random sample of 100 data rows of non-abnormal sales and use this along with all the abnormal sales to perform classification modelling on. \n",
    "\n",
    "Advantage = Undersampling evens out the imbalance between Abnormal and non-abnormal sales, getting around the issue of the program guessing the majority class and getting a high score. \n",
    "\n",
    "Drawback = The scores and validity of the model are dependent on the sample of non-abnormal sales. Even where random sampling is assured there can be large variance between samples, hence the score of the model fluctuates depending on the particular sample chosen, making the model less reliable.  "
   ]
  },
  {
   "cell_type": "code",
   "execution_count": null,
   "metadata": {},
   "outputs": [],
   "source": [
    "df = replace_na_classification\n",
    "abnormal_population = df[df['SaleCondition']=='Abnorml']\n",
    "non_abnormal_sample = df[df['SaleCondition'] !='Abnorml'].sample(n=100)"
   ]
  },
  {
   "cell_type": "markdown",
   "metadata": {},
   "source": [
    "### Note\n",
    "\n",
    "If you run this model again the sample taken for the non_abnormal sales will change, hence the optimum parameters and scores will change, differing from the results below. "
   ]
  },
  {
   "cell_type": "code",
   "execution_count": null,
   "metadata": {},
   "outputs": [],
   "source": [
    "sale_type_df = non_abnormal_sample.append(abnormal_population)"
   ]
  },
  {
   "cell_type": "code",
   "execution_count": null,
   "metadata": {},
   "outputs": [],
   "source": [
    "sale_type_df"
   ]
  },
  {
   "cell_type": "code",
   "execution_count": null,
   "metadata": {},
   "outputs": [],
   "source": [
    "y = sale_type_df.pop('SaleCondition')"
   ]
  },
  {
   "cell_type": "code",
   "execution_count": null,
   "metadata": {},
   "outputs": [],
   "source": [
    "y.value_counts(normalize=True).max()\n",
    "\n",
    "# This is the new baseline for the model"
   ]
  },
  {
   "cell_type": "code",
   "execution_count": null,
   "metadata": {},
   "outputs": [],
   "source": [
    "x = sale_type_df\n",
    "x_dum = pd.get_dummies(sale_type_df)"
   ]
  },
  {
   "cell_type": "code",
   "execution_count": null,
   "metadata": {},
   "outputs": [],
   "source": [
    "x_train, x_test, y_train, y_test = train_test_split(x_dum, y,\n",
    "                        stratify=y, test_size=0.1, random_state=98)"
   ]
  },
  {
   "cell_type": "code",
   "execution_count": null,
   "metadata": {},
   "outputs": [],
   "source": [
    "scaler = StandardScaler()\n",
    "x_train_std = pd.DataFrame(scaler.fit_transform(x_train), \n",
    "                       columns=x_train.columns)\n",
    "\n",
    "x_test_std = pd.DataFrame(scaler.transform(x_test), \n",
    "                      columns=x_train.columns)"
   ]
  },
  {
   "cell_type": "code",
   "execution_count": null,
   "metadata": {},
   "outputs": [],
   "source": [
    "gs_params = {'penalty': ['l1', 'l2'],\n",
    "              'solver': ['liblinear'],\n",
    "              'C': np.logspace(-5, 5, 50)}\n",
    "\n",
    "lr = LogisticRegression()\n",
    "\n",
    "# create your gridsearch object\n",
    "lr_gridsearch = GridSearchCV(lr,\n",
    "                             gs_params,\n",
    "                             n_jobs=2, \n",
    "                             cv=10, \n",
    "                             verbose=1)\n",
    "\n",
    "lr_gridsearch.fit(x_train_std, y_train)"
   ]
  },
  {
   "cell_type": "code",
   "execution_count": null,
   "metadata": {},
   "outputs": [],
   "source": [
    "lr_gridsearch.best_score_"
   ]
  },
  {
   "cell_type": "code",
   "execution_count": null,
   "metadata": {},
   "outputs": [],
   "source": [
    "lr_gridsearch.best_params_"
   ]
  },
  {
   "cell_type": "code",
   "execution_count": null,
   "metadata": {},
   "outputs": [],
   "source": [
    "opt_lr = LogisticRegression(C=0.19306977288832497, penalty= 'l1', solver= 'liblinear')\n",
    "model_fitter(opt_lr, x_train_std, y_train, x_test_std, y_test, cv=10)"
   ]
  },
  {
   "cell_type": "code",
   "execution_count": null,
   "metadata": {},
   "outputs": [],
   "source": [
    "Coef = pd.DataFrame(zip(x_train.columns, np.transpose(opt_lr.coef_)), columns=['features', 'coef']) \n",
    "Coef['Absolute Coef'] = Coef.coef.abs()\n",
    "sorted_Coef = Coef.sort_values(by='Absolute Coef', ascending = False)\n",
    "non_zero_coef = sorted_Coef[sorted_Coef.coef != 0]\n",
    "print(non_zero_coef)\n",
    "non_zero_coef_list = non_zero_coef.features.tolist()\n",
    "non_zero_coef_list\n"
   ]
  },
  {
   "cell_type": "code",
   "execution_count": null,
   "metadata": {},
   "outputs": [],
   "source": [
    "from sklearn.model_selection import cross_val_score\n",
    "from sklearn.neighbors import KNeighborsClassifier"
   ]
  },
  {
   "cell_type": "code",
   "execution_count": null,
   "metadata": {},
   "outputs": [],
   "source": [
    "x_dum[non_zero_coef_list]"
   ]
  },
  {
   "cell_type": "code",
   "execution_count": null,
   "metadata": {},
   "outputs": [],
   "source": [
    "# In this part I have used the non-zero features identified from the model above to run a KNN classifer model. \n",
    "\n",
    "x2_dum = x_dum[non_zero_coef_list]"
   ]
  },
  {
   "cell_type": "code",
   "execution_count": null,
   "metadata": {},
   "outputs": [],
   "source": [
    "x_train, x_test, y_train, y_test = train_test_split(x2_dum, y,\n",
    "                        stratify=y, test_size=0.1, random_state=98)"
   ]
  },
  {
   "cell_type": "code",
   "execution_count": null,
   "metadata": {},
   "outputs": [],
   "source": [
    "scaler = StandardScaler()\n",
    "x_train_std = pd.DataFrame(scaler.fit_transform(x_train), \n",
    "                       columns=x_train.columns)\n",
    "\n",
    "x_test_std = pd.DataFrame(scaler.transform(x_test), \n",
    "                      columns=x_train.columns)"
   ]
  },
  {
   "cell_type": "code",
   "execution_count": null,
   "metadata": {},
   "outputs": [],
   "source": [
    "from sklearn.neighbors import KNeighborsClassifier"
   ]
  },
  {
   "cell_type": "code",
   "execution_count": null,
   "metadata": {},
   "outputs": [],
   "source": [
    "knn_parameters = {\n",
    "    'n_neighbors':[1,2,3,4,5,6,7,8,9,10],\n",
    "    'weights':['uniform', 'distance'],\n",
    "    'p':[1,2],\n",
    "    'algorithm':['auto', 'ball_tree', 'kd_tree', 'brute']\n",
    "}\n",
    "knn = KNeighborsClassifier()\n",
    "\n",
    "knn_gridsearcher = GridSearchCV(knn, knn_parameters, cv=4, verbose=1)\n",
    "knn_gridsearcher.fit(x_train_std, y_train)"
   ]
  },
  {
   "cell_type": "code",
   "execution_count": null,
   "metadata": {},
   "outputs": [],
   "source": [
    "knn_gridsearcher.best_score_"
   ]
  },
  {
   "cell_type": "code",
   "execution_count": null,
   "metadata": {},
   "outputs": [],
   "source": [
    "knn_gridsearcher.best_params_"
   ]
  },
  {
   "cell_type": "code",
   "execution_count": null,
   "metadata": {},
   "outputs": [],
   "source": [
    "opt_knn = KNeighborsClassifier(n_neighbors=2,weights='uniform', p=2, algorithm='ball_tree')\n",
    "model_fitter(opt_knn, x_train_std, y_train, x_test_std, y_test, cv=5)"
   ]
  },
  {
   "cell_type": "markdown",
   "metadata": {},
   "source": [
    "This mean CV score based on a KNN gridsearch using the features identified by the Lasso model above gave the best mean CV score of 0.72, well above the baseline of 0.56. However, these results must be taken with caution, as although there were positive CV and training score on the training data, the test score was marginally above the baseline, suggesting the model will not generalise well.  \n",
    "\n",
    "In this case I would suggest the Ridge penalty logisitic regression model above is preferable as although the mean CV score was lower at 0.658, the training and test scores were more sensible, indicating that this model generalises better and would be a better future indicator of abnormal sales. However, the feature outcomes of this model make little sense, with a sale type COD (court officer deed) counting against the abnormal sales, and having an attached garage counting towards abnormal sales. \n",
    "\n",
    "I would suggest that predicting abnormal sales does not rely on the features of the house, instead it is perhaps more reasonable to assume that these sales are based on the features of the seller and thier personal financial situations rather than house properties. "
   ]
  },
  {
   "cell_type": "code",
   "execution_count": null,
   "metadata": {},
   "outputs": [],
   "source": [
    "from sklearn.metrics import plot_confusion_matrix, plot_roc_curve\n",
    "from sklearn.metrics import roc_auc_score, average_precision_score, plot_roc_curve, plot_precision_recall_curve\n",
    "\n",
    "# The following parts are based on the opt_knn above and were for me to practice methods. \n",
    "\n",
    "plot_confusion_matrix(opt_knn, x_train_std, y_train, cmap='Blues', values_format='.0f')\n",
    "plt.grid(False)\n",
    "plt.show()"
   ]
  },
  {
   "cell_type": "code",
   "execution_count": null,
   "metadata": {},
   "outputs": [],
   "source": [
    "fig, ax = plt.subplots(figsize=(6, 6))\n",
    "plot_roc_curve(opt_knn, x_train_std, y_train, ax=ax)\n",
    "ax.plot([0, 1], [0, 1], 'k--', linewidth=4)\n",
    "plt.show()\n"
   ]
  },
  {
   "cell_type": "code",
   "execution_count": null,
   "metadata": {},
   "outputs": [],
   "source": [
    "fig, ax = plt.subplots(figsize=(6, 6))\n",
    "plot_precision_recall_curve(opt_knn, x_train_std, y_train, ax=ax)\n",
    "plt.show()"
   ]
  },
  {
   "cell_type": "markdown",
   "metadata": {},
   "source": [
    "## Class imbalance \n",
    "\n",
    "Severe class imbalance is an issue for many areas of data science machine learning (for example fraud detection or cancer cell detention). As well as the undersampling used within this project we may have also attempted to address the class imblance using other methods such as oversampling or the SMOTE algorithm. "
   ]
  },
  {
   "cell_type": "code",
   "execution_count": null,
   "metadata": {},
   "outputs": [],
   "source": []
  }
 ],
 "metadata": {
  "kernelspec": {
   "display_name": "Python 3",
   "language": "python",
   "name": "python3"
  },
  "language_info": {
   "codemirror_mode": {
    "name": "ipython",
    "version": 3
   },
   "file_extension": ".py",
   "mimetype": "text/x-python",
   "name": "python",
   "nbconvert_exporter": "python",
   "pygments_lexer": "ipython3",
   "version": "3.8.8"
  },
  "toc": {
   "base_numbering": 1,
   "nav_menu": {},
   "number_sections": false,
   "sideBar": true,
   "skip_h1_title": true,
   "title_cell": "Table of Contents",
   "title_sidebar": "Contents",
   "toc_cell": false,
   "toc_position": {},
   "toc_section_display": "block",
   "toc_window_display": false
  }
 },
 "nbformat": 4,
 "nbformat_minor": 2
}
